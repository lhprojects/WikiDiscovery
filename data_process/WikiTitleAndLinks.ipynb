{
 "cells": [
  {
   "cell_type": "markdown",
   "metadata": {
    "toc": true
   },
   "source": [
    "<h1>Table of Contents<span class=\"tocSkip\"></span></h1>\n",
    "<div class=\"toc\"><ul class=\"toc-item\"><li><span><a href=\"#数据处理\" data-toc-modified-id=\"数据处理-1\"><span class=\"toc-item-num\">1&nbsp;&nbsp;</span>数据处理</a></span><ul class=\"toc-item\"><li><span><a href=\"#数据概览\" data-toc-modified-id=\"数据概览-1.1\"><span class=\"toc-item-num\">1.1&nbsp;&nbsp;</span>数据概览</a></span></li><li><span><a href=\"#维基百科数据xml-parser\" data-toc-modified-id=\"维基百科数据xml-parser-1.2\"><span class=\"toc-item-num\">1.2&nbsp;&nbsp;</span>维基百科数据xml parser</a></span></li><li><span><a href=\"#Pass-1:-收集标题和重定向\" data-toc-modified-id=\"Pass-1:-收集标题和重定向-1.3\"><span class=\"toc-item-num\">1.3&nbsp;&nbsp;</span>Pass 1: 收集标题和重定向</a></span></li><li><span><a href=\"#预处理和统计\" data-toc-modified-id=\"预处理和统计-1.4\"><span class=\"toc-item-num\">1.4&nbsp;&nbsp;</span>预处理和统计</a></span></li><li><span><a href=\"#编号\" data-toc-modified-id=\"编号-1.5\"><span class=\"toc-item-num\">1.5&nbsp;&nbsp;</span>编号</a></span></li><li><span><a href=\"#Pass2:-链接\" data-toc-modified-id=\"Pass2:-链接-1.6\"><span class=\"toc-item-num\">1.6&nbsp;&nbsp;</span>Pass2: 链接</a></span><ul class=\"toc-item\"><li><span><a href=\"#从page正文中提取链接\" data-toc-modified-id=\"从page正文中提取链接-1.6.1\"><span class=\"toc-item-num\">1.6.1&nbsp;&nbsp;</span>从page正文中提取链接</a></span></li></ul></li></ul></li><li><span><a href=\"#数据加载类\" data-toc-modified-id=\"数据加载类-2\"><span class=\"toc-item-num\">2&nbsp;&nbsp;</span>数据加载类</a></span></li><li><span><a href=\"#数据库\" data-toc-modified-id=\"数据库-3\"><span class=\"toc-item-num\">3&nbsp;&nbsp;</span>数据库</a></span></li><li><span><a href=\"#附录\" data-toc-modified-id=\"附录-4\"><span class=\"toc-item-num\">4&nbsp;&nbsp;</span>附录</a></span></li></ul></div>"
   ]
  },
  {
   "cell_type": "code",
   "execution_count": null,
   "metadata": {
    "deletable": false,
    "editable": false
   },
   "outputs": [],
   "source": [
    "DATA_PATH = r\"D:\\data\" + \"\\\\\""
   ]
  },
  {
   "cell_type": "code",
   "execution_count": 6,
   "metadata": {
    "deletable": false,
    "editable": false
   },
   "outputs": [],
   "source": [
    "import pickle\n",
    "import numpy as np\n",
    "debugging=False\n",
    "\n",
    "import os\n",
    "os.sys.path.append(\"../common\")"
   ]
  },
  {
   "cell_type": "markdown",
   "metadata": {},
   "source": [
    "# 数据处理\n",
    "## 数据概览\n",
    "我们下载了2020年4月1日英文维基百科的数据。数据由xml组成。\n",
    "前50000字符见附录。"
   ]
  },
  {
   "cell_type": "markdown",
   "metadata": {},
   "source": [
    "整个数据集由页组成。有两种页，一种是重定向类型的，重定向的页的正文并不是真正的内容，另外一种是正文具有真正内容的页。\n",
    "每个都有一个名字空间，名字空间为0，表示这是一个通常的文章(Article)。名字空间除了文章，还有包括模板，讨论，分类等等。\n",
    "我们只读取表示通常页的文章。\n",
    "每个页都有一个标题(title)，一般来说每个页的标题并不相同，但是有极个别例外，我们在名字空间0中发现了两个重复标题。"
   ]
  },
  {
   "cell_type": "markdown",
   "metadata": {},
   "source": [
    "## 维基百科数据xml parser\n",
    "因为数据巨大，我们采用流式解析器。\n",
    "对于极大的文件，采用流式解析器，这样可以保证速度和有限的内存，但是给编码带来一定复杂度。\n",
    "代码里包含一些小技巧来避坑。"
   ]
  },
  {
   "cell_type": "code",
   "execution_count": 12,
   "metadata": {
    "deletable": false,
    "editable": false
   },
   "outputs": [],
   "source": [
    "import xml.sax\n",
    "# https://en.wikipedia.org/wiki/Wikipedia:Size_of_Wikipedia\n",
    "file_path=DATA_PATH + r\"enwiki-20201201-pages-articles-multistream.xml\\enwiki-20201201-pages-articles-multistream.xml\"\n",
    "\n",
    "class AbortException(Exception):\n",
    "    pass\n",
    "\n",
    "class StreamHandler(xml.sax.handler.ContentHandler):\n",
    "\n",
    "    def __init__(self, on_page=None, skip_n_pages=0):\n",
    "        self.cnt = 0\n",
    "        self.on_page = on_page\n",
    "        self.skip_n_pages = skip_n_pages\n",
    "        \n",
    "        # character may before any startElement        \n",
    "        self.name = None\n",
    "        self.title = None\n",
    "        self.redirect = None\n",
    "        self.ns = -1\n",
    "        self.text = None\n",
    "    \n",
    "    def startElement(self, name, attrs):\n",
    "        \n",
    "        if self.cnt < self.skip_n_pages:\n",
    "            return\n",
    "        \n",
    "        self.name = name\n",
    "        \n",
    "            \n",
    "        if name == \"redirect\":\n",
    "            assert attrs.getLength() == 1\n",
    "            for n in attrs.getNames():\n",
    "                self.redirect = attrs.getValue(n)\n",
    "        elif name == \"title\":\n",
    "            self.title_ = []\n",
    "        elif name == \"ns\":\n",
    "            self.ns_ = []\n",
    "        elif name == \"text\":\n",
    "            self.text_ = []\n",
    "    \n",
    "\n",
    "\n",
    "    def endElement(self, name):\n",
    "        \n",
    "        if self.cnt < self.skip_n_pages:\n",
    "            if name == \"page\":\n",
    "                if self.cnt % 10000 == 0:\n",
    "                    print(\"\\rpages: \", self.cnt, end=\"\", flush=True)\n",
    "                self.cnt += 1\n",
    "            return\n",
    "            \n",
    "        \n",
    "        if name == \"title\":\n",
    "            self.title = \"\".join(self.title_)\n",
    "        elif name == \"ns\":\n",
    "            self.ns = int(\"\".join(self.ns_))\n",
    "        elif name == \"text\":\n",
    "            self.text  = \"\".join(self.text_)\n",
    "        elif name == \"page\":\n",
    "            \n",
    "            if self.on_page:\n",
    "                self.on_page(self)                \n",
    "                \n",
    "            self.title = None\n",
    "            self.redirect = None\n",
    "            self.ns = -1\n",
    "            self.text = None\n",
    "            \n",
    "            if self.cnt % 10000 == 0:\n",
    "                print(\"\\rpages: \", self.cnt, end=\"\", flush=True)\n",
    "                \n",
    "            self.cnt += 1\n",
    "            \n",
    "        self.name = None\n",
    "\n",
    "    def characters(self, content):\n",
    "        if self.cnt < self.skip_n_pages:\n",
    "            return\n",
    "        \n",
    "        # character may be invokde once for a line or for handured of characters\n",
    "        # we need to contact them in the `endElement` by ourselves        \n",
    "        if self.name == \"title\":                            \n",
    "            self.title_.append(content)\n",
    "        if self.name == \"ns\":                            \n",
    "            self.ns_.append(content)\n",
    "        elif self.name == \"text\":\n",
    "            self.text_.append(content)\n",
    "            \n",
    "            \n",
    "def parse_wiki(on_page, skip_n_pages = 0):\n",
    "    parser = xml.sax.make_parser()\n",
    "    handler = StreamHandler(on_page, skip_n_pages)\n",
    "    parser.setContentHandler(handler)\n",
    "        \n",
    "    with open(file_path, \"r\", encoding=\"utf-8\") as f:\n",
    "        try:\n",
    "            parser.parse(f)\n",
    "        except AbortException:\n",
    "            pass\n",
    "    print(\"\\rpages: \", handler.cnt, end=\"\", flush=True)\n",
    "    print()\n"
   ]
  },
  {
   "cell_type": "markdown",
   "metadata": {},
   "source": [
    "## Pass 1: 收集标题和重定向\n",
    "* 收集所有真正页的标题\n",
    "* 记录重定向页的映射"
   ]
  },
  {
   "cell_type": "code",
   "execution_count": 3,
   "metadata": {
    "deletable": false,
    "editable": false,
    "scrolled": false
   },
   "outputs": [
    {
     "name": "stdout",
     "output_type": "stream",
     "text": [
      "pages:  19340000\n",
      "repeat title\n",
      "title:  Tirupattur\n",
      "len(page_titles) 5878898\n",
      "pages:  20776844\n",
      "38min 22s ± 0 ns per loop (mean ± std. dev. of 1 run, 1 loop each)\n"
     ]
    }
   ],
   "source": [
    "# exlude redirect page titles\n",
    "page_titles = []\n",
    "# include redirect page titles\n",
    "page_titles_set = set()\n",
    "# redirect page title -> real page title\n",
    "redirect_map = {}\n",
    "\n",
    "def get_page_titles():\n",
    "    \n",
    "    def on_page(self):\n",
    "        \n",
    "        # considering only articles\n",
    "        if self.ns != 0:\n",
    "            return\n",
    "         \n",
    "        # no title ?\n",
    "        if not self.title:\n",
    "            print(\"\\nno title\")\n",
    "            print(\"title: \", self.title)\n",
    "            print(\"len(page_titles)\", len(page_titles))\n",
    "            return\n",
    "            \n",
    "        if self.redirect is not None:\n",
    "            redirect_map[self.title] = self.redirect            \n",
    "            return\n",
    "                \n",
    "        # repeat title?        \n",
    "        if self.title in page_titles_set:\n",
    "            print(\"\\nrepeat title\")\n",
    "            print(\"title: \", self.title)                    \n",
    "            print(\"len(page_titles)\", len(page_titles))\n",
    "        else:\n",
    "            page_titles_set.add(self.title)\n",
    "            \n",
    "        page_titles.append(self.title)\n",
    "        \n",
    "        if debugging:\n",
    "            if self.cnt >10000:\n",
    "                raise AbortException()\n",
    "    \n",
    "    parse_wiki(on_page)\n",
    "    \n",
    "    with open(DATA_PATH + \"pass1.data\", \"wb\") as f:\n",
    "        pickle.dump([page_titles, redirect_map], f)\n",
    "\n",
    "%timeit -r1 -n1 get_page_titles()"
   ]
  },
  {
   "cell_type": "markdown",
   "metadata": {},
   "source": [
    "## 预处理和统计"
   ]
  },
  {
   "cell_type": "code",
   "execution_count": 4,
   "metadata": {
    "deletable": false,
    "editable": false,
    "scrolled": false
   },
   "outputs": [
    {
     "name": "stdout",
     "output_type": "stream",
     "text": [
      "real pages:  6200809\n",
      "repeat: Tirupattur\n",
      "maxlen 250\n",
      "Cneoridium dumosum (Nuttall) Hooker F. Collected March 26, 1960, at an Elevation of about 1450 Meters on Cerro Quemazón, 15 Miles South of Bahía de Los Angeles, Baja California, México, Apparently for a Southeastward Range Extension of Some 140 Miles\n",
      "maxlen 251\n",
      "Protocol Amending the Agreements, Conventions and Protocols on Narcotic Drugs concluded at The Hague on 23 January 1912, at Geneva on 11 February 1925 and 19 February 1925, and 13 July 1931, at Bangkok on 27 November 1931 and at Geneva on 26 June 1936\n",
      "unique title real pages:  6200808\n"
     ]
    }
   ],
   "source": [
    "with open(DATA_PATH + \"pass1.data\", \"rb\") as f:\n",
    "    page_titles, redirect_map = pickle.load(f)\n",
    "\n",
    "def count():\n",
    "    global page_titles\n",
    "    \n",
    "    print(\"real pages: \", len(page_titles))    \n",
    "    max_len = 0\n",
    "    max_title = None\n",
    "    page_titles_ = []\n",
    "    page_titles_set = set()\n",
    "    for i in range(len(page_titles)):\n",
    "        title = page_titles[i]\n",
    "        \n",
    "        stitle = title.strip()\n",
    "        if stitle != title:\n",
    "            print(\"strip:\", stitle, title)\n",
    "        \n",
    "        if title in page_titles_set:\n",
    "            print(\"repeat:\", title)\n",
    "        else:\n",
    "            page_titles_set.add(title)\n",
    "            page_titles_.append(title)\n",
    "            \n",
    "        if len(title) > max_len:\n",
    "            max_len = len(title)\n",
    "            max_title = title\n",
    "        \n",
    "    page_titles = page_titles_\n",
    "    \n",
    "    print(\"maxlen\", max_len)\n",
    "    print(max_title)\n",
    "    \n",
    "    max_len = 0\n",
    "    for title in redirect_map:\n",
    "        if len(title) > max_len:\n",
    "            max_len = len(title)\n",
    "            max_title = title\n",
    "    print(\"maxlen\", max_len)\n",
    "    print(max_title)\n",
    "    print(\"unique title real pages: \", len(page_titles))        \n",
    "\n",
    "    with open(DATA_PATH + \"pass1.5.data\", \"wb\") as f:\n",
    "        pickle.dump([page_titles, redirect_map], f)\n",
    "        \n",
    "count()"
   ]
  },
  {
   "cell_type": "markdown",
   "metadata": {},
   "source": [
    "## 编号"
   ]
  },
  {
   "cell_type": "code",
   "execution_count": 6,
   "metadata": {
    "deletable": false,
    "editable": false
   },
   "outputs": [],
   "source": [
    "import pickle\n",
    "import numpy as np\n",
    "\n",
    "with open(DATA_PATH + \"pass1.5.data\", \"rb\") as f:\n",
    "    page_titles, redirect_map = pickle.load(f)\n",
    "\n",
    "page_title_indices = {}\n",
    "for i, page_title in enumerate(page_titles):\n",
    "    page_title_indices[page_title] = i\n",
    "    \n",
    "    \n",
    "def get_index_from_title(title):\n",
    "    \n",
    "    iters = 0\n",
    "    while True:\n",
    "        if title in page_title_indices:\n",
    "            return page_title_indices[title]\n",
    "        \n",
    "        # don't use capitalize, it we lower the first char of a name\n",
    "        ctitle = title[:1].upper() + title[1:]\n",
    "        if ctitle != title:\n",
    "            if ctitle in page_title_indices:\n",
    "                return page_title_indices[ctitle]\n",
    "            \n",
    "        if title in redirect_map:\n",
    "            title_ = redirect_map[title]\n",
    "            # this is not a full dection of loop, but it's work\n",
    "            if title_ == title or title_ == ctitle:\n",
    "                break\n",
    "            title = title_\n",
    "        elif ctitle in redirect_map:\n",
    "            title_ = redirect_map[ctitle]\n",
    "            if title_ == title or title_ == ctitle:\n",
    "                break\n",
    "            title = title_\n",
    "        else:\n",
    "            break\n",
    "            \n",
    "        iters += 1\n",
    "        if iters >= 5:\n",
    "            break\n",
    "                        \n",
    "def get_title_from_index(index):\n",
    "    return page_titles[index]"
   ]
  },
  {
   "cell_type": "code",
   "execution_count": 7,
   "metadata": {
    "deletable": false,
    "editable": false
   },
   "outputs": [
    {
     "name": "stdout",
     "output_type": "stream",
     "text": [
      "0\n",
      "Anarchism\n"
     ]
    }
   ],
   "source": [
    "print(get_index_from_title(\"Anarchism\"))\n",
    "print(get_title_from_index(get_index_from_title(\"Anarchism\")))"
   ]
  },
  {
   "cell_type": "markdown",
   "metadata": {},
   "source": [
    "## Pass2: 链接"
   ]
  },
  {
   "cell_type": "markdown",
   "metadata": {},
   "source": [
    "### 从page正文中提取链接"
   ]
  },
  {
   "cell_type": "code",
   "execution_count": 8,
   "metadata": {
    "deletable": false,
    "editable": false
   },
   "outputs": [
    {
     "name": "stdout",
     "output_type": "stream",
     "text": [
      "['t1']\n",
      "['t2']\n",
      "['t3']\n",
      "['t3']\n",
      "['t5', 't6']\n",
      "['t7']\n",
      "['t8']\n",
      "['t9']\n",
      "['t1']\n",
      "[]\n",
      "['t3 (a)']\n"
     ]
    }
   ],
   "source": [
    "#https://en.wikipedia.org/wiki/Wikipedia:Page_name\n",
    "# don't contiain #<>[\\]|{}_ in title\n",
    "# have at most 255 characters (indeed 255 bytes) in title\n",
    "# however we have to a larger value for this, to take into the namespace\n",
    "# we assume at most 100 character, for tag, and text of hyperlink\n",
    "\n",
    "import re\n",
    "title_pattern = re.compile(r'''\\[\\[:?([^#<>[\\]|{}_]{1,265})(?:#[^[\\]|]{0,100})?(?:\\|[^[\\]]{0,100})?\\]\\]''')\n",
    "#title_pattern = re.compile(r'''\\[\\[:?([^#<>[\\]|{}_]+)\\]\\]''')\n",
    "print(title_pattern.findall(\"[[t1]]\"))\n",
    "print(title_pattern.findall(\"[[t2#tag]]\"))\n",
    "print(title_pattern.findall(\"[[t3|text]]\"))\n",
    "print(title_pattern.findall(\"[[t3#tag|text]]\"))\n",
    "print(title_pattern.findall(\"[[t5#tag|text ]] [[t6|text]]\"))\n",
    "print(title_pattern.findall(\"[[:t7#tag|text]]\"))\n",
    "print(title_pattern.findall(\"[[[[t8]]\"))\n",
    "print(title_pattern.findall(\"[[t_ [[t9]]\"))\n",
    "print(title_pattern.findall(\"[[t1|aaaaaaaaaaaaaaaaaaaaaaaaaaaaaaaaaaaaaaaaaaaaaaaaaaaaaaaaaaaaaaaaaaaaaaaaaaaaaaaaaaaaaaaaaaaaaaaaaaaa]]\"))\n",
    "print(title_pattern.findall(\"[[t2|aaaaaaaaaaaaaaaaaaaaaaaaaaaaaaaaaaaaaaaaaaaaaaaaaaaaaaaaaaaaaaaaaaaaaaaaaaaaaaaaaaaaaaaaaaaaaaaaaaaaa]]\"))\n",
    "print(title_pattern.findall(\"[[t3 (a)]]\"))"
   ]
  },
  {
   "cell_type": "code",
   "execution_count": 9,
   "metadata": {
    "deletable": false,
    "editable": false,
    "scrolled": false
   },
   "outputs": [
    {
     "name": "stdout",
     "output_type": "stream",
     "text": [
      "pages:  19340000\n",
      "repeat title\n",
      "title:  Tirupattur\n",
      "len(page_titles) 6200808\n",
      "pages:  20776844\n",
      "48min 7s ± 0 ns per loop (mean ± std. dev. of 1 run, 1 loop each)\n"
     ]
    }
   ],
   "source": [
    "# links of all page, all links in one dimension\n",
    "links=[]\n",
    "# number of links of each page\n",
    "page_n_links = []\n",
    "\n",
    "# for debug\n",
    "paring_page_title = None\n",
    "paring_page_text = None\n",
    "page_titles_set = set()\n",
    "\n",
    "def get_page_links():\n",
    "    \n",
    "    global page_n_links\n",
    "    global links\n",
    "    def on_page(self):\n",
    "                        \n",
    "        global paring_page_title\n",
    "        global paring_page_text\n",
    "        \n",
    "        # considering only articles\n",
    "        if self.ns != 0:\n",
    "            return\n",
    "         \n",
    "        # no title ?\n",
    "        if not self.title:\n",
    "            print(\"\\nno title\")\n",
    "            print(\"title: \", self.title)\n",
    "            print(\"len(page_titles)\", len(page_titles))\n",
    "            return\n",
    "            \n",
    "        if self.redirect is not None:\n",
    "            return\n",
    "                \n",
    "        # repeat title?        \n",
    "        if self.title in page_titles_set:\n",
    "            print(\"\\nrepeat title\")\n",
    "            print(\"title: \", self.title)                    \n",
    "            print(\"len(page_titles)\", len(page_titles))\n",
    "            return\n",
    "        else:\n",
    "            page_titles_set.add(self.title)\n",
    "            \n",
    "        \n",
    "        paring_page_title = self.title\n",
    "        paring_page_text = self.text\n",
    "               \n",
    "        # if index of this title if correct\n",
    "        if self.title != page_titles[len(page_n_links)]:\n",
    "            print(self.title, \"!=\", page_titles[len(page_n_links)])\n",
    "            assert False                        \n",
    "            \n",
    "        page_n_links.append(0)\n",
    "        title_indices_set = set()\n",
    "        \n",
    "        for title in title_pattern.findall(self.text):\n",
    "            index = get_index_from_title(title)\n",
    "            if index is not None:\n",
    "                if index not in title_indices_set:\n",
    "                    title_indices_set.add(index)\n",
    "                    links.append(index)\n",
    "                    page_n_links[-1] += 1\n",
    "                    \n",
    "        if debugging:\n",
    "            if self.cnt >10000:\n",
    "                raise AbortException()\n",
    "                    \n",
    "    parse_wiki(on_page)\n",
    "        \n",
    "    links = np.array(links, dtype=np.int)\n",
    "    page_n_links = np.array(page_n_links, dtype=np.int)\n",
    "    np.savez_compressed(DATA_PATH + \"pass2.npz\", links=links, page_n_links=page_n_links)\n",
    "\n",
    "%timeit -r1 -n1 get_page_links()"
   ]
  },
  {
   "cell_type": "markdown",
   "metadata": {},
   "source": [
    "# 数据加载类"
   ]
  },
  {
   "cell_type": "code",
   "execution_count": 7,
   "metadata": {
    "deletable": false,
    "editable": false
   },
   "outputs": [
    {
     "name": "stdout",
     "output_type": "stream",
     "text": [
      "0\n",
      "Anarchism\n"
     ]
    }
   ],
   "source": [
    "import wiki\n",
    "import imp\n",
    "imp.reload(wiki)\n",
    "wiki_titles = wiki.WikiTitles(file = DATA_PATH + \"pass1.5.data\")\n",
    "print(wiki_titles.get_index_from_title(\"Anarchism\"))\n",
    "print(wiki_titles.get_title_from_index(wiki_titles.get_index_from_title(\"Anarchism\")))"
   ]
  },
  {
   "cell_type": "code",
   "execution_count": 8,
   "metadata": {
    "deletable": false,
    "editable": false,
    "scrolled": false
   },
   "outputs": [
    {
     "name": "stdout",
     "output_type": "stream",
     "text": [
      "['Logarithmic scale', 'Algorithm', 'Google Search', 'Web page', 'Search engine', 'Larry Page', 'Google Patents', 'Network theory', 'Weighting', 'Hyperlink', 'Set (abstract data type)', 'World Wide Web', 'Link building', 'Webgraph', 'CNN', 'Mayo Clinic', 'Recursion', 'Backlink', 'HITS algorithm', 'Jon Kleinberg', 'Teoma', 'Ask.com', 'CLEVER project', 'TrustRank', 'Google Hummingbird', 'Eigenvalues and eigenvectors', 'Scientometrics', 'Thomas L. Saaty', 'Analytic hierarchy process', 'Cognitive model', 'Baidu', 'Robin Li', 'The New York Times', 'Forbes', 'Sergey Brin', 'Stanford University', 'Héctor García-Molina', 'Rajeev Motwani', 'Terry Winograd', 'Google', 'Software patent', 'Citation analysis', 'Eugene Garfield', 'Hyper Search', 'Massimo Marchiori', 'University of Padua', 'Probability distribution', 'Matt Cutts', 'Markov chain', 'URL', 'Adjacency matrix', 'Stochastic matrix', 'Eigenvector centrality', 'Eigengap', 'Expected value', 'Wikipedia', 'Link farm', 'Trade secret', 'Power iteration', 'Steady state', 'Identity matrix', 'Perron–Frobenius theorem', 'Scala (programming language)', 'Apache Spark', 'MATLAB', 'GNU Octave', 'Python (programming language)', 'Graph (abstract data type)', 'Bipartite graph', 'Random walk', 'Distributed algorithm', 'Google Toolbar', 'Danny Sullivan (technologist)', 'Search engine results page', 'Search engine optimization', 'Google Maps', 'Google Directory', 'HTTP 302', 'Meta element', 'Website spoofing', 'Nofollow', 'HTML attribute', 'Gaming the system', 'Citation', 'Sociometry', 'Attention economy', 'Institute for Scientific Information', 'Impact factor', 'Eigenfactor', 'SCImago Journal Rank', 'Neuroscience', 'Neuron', 'Twitter', 'Swiftype', 'Web crawler', 'Blogosphere', 'Scale-free network', 'Lexical semantics', 'Word-sense disambiguation', 'Semantic similarity', 'WordNet', 'Synonym ring', 'Link relation', 'Blog', 'Spamdexing', 'Spam in blogs', 'Search engine optimization metrics', 'Google Chrome', 'Attention inequality', 'CheiRank', 'Domain authority', 'EigenTrust', 'Google bombing', 'Google matrix', 'Google Panda', 'Google Penguin', 'Hilltop algorithm', 'Katz centrality', 'SimRank', 'VisualRank']\n"
     ]
    }
   ],
   "source": [
    "wiki_links = wiki.WikiLinks(file = DATA_PATH + \"pass2.npz\", wiki_titles=wiki_titles)\n",
    "print(wiki_links.get_links_from_title(\"PageRank\"))"
   ]
  },
  {
   "cell_type": "markdown",
   "metadata": {},
   "source": [
    "# 数据库"
   ]
  },
  {
   "cell_type": "markdown",
   "metadata": {},
   "source": [
    "最好吧文件放在ssd上,可以快10倍。"
   ]
  },
  {
   "cell_type": "code",
   "execution_count": 9,
   "metadata": {
    "deletable": false,
    "editable": false
   },
   "outputs": [
    {
     "name": "stdout",
     "output_type": "stream",
     "text": [
      "3:9367000    16min 1s ± 0 ns per loop (mean ± std. dev. of 1 run, 1 loop each)\n"
     ]
    }
   ],
   "source": [
    "import sqlite3\n",
    "import os\n",
    "import wiki\n",
    "\n",
    "def to_db():\n",
    "    \n",
    "    wiki_titles = wiki.WikiTitles(file = DATA_PATH + \"pass1.5.data\")\n",
    "    if os.path.exists(DATA_PATH +  r\"wiki_titles.db\"):\n",
    "        os.remove(DATA_PATH + r\"wiki_titles.db\")\n",
    "\n",
    "    try:\n",
    "        conn = sqlite3.connect(DATA_PATH + \"wiki_titles.db\")\n",
    "        c = conn.cursor()\n",
    "        \n",
    "        c.execute(\"create table page_title_indices (title text unique primary key, idx integer)\")\n",
    "        for i, (title, index) in enumerate(wiki_titles.page_title_indices.items()):        \n",
    "            c.execute(\"insert into page_title_indices values (?, ?)\", (title, index))\n",
    "            if i % 10000 == 0:\n",
    "                conn.commit()\n",
    "            if i % 100000 == 0:\n",
    "                print(\"\\r1:%d    \"%i, end=\"\")\n",
    "        conn.commit()\n",
    "        print(\"\\r1:%d    \"%i, end=\"\\n\")\n",
    "        \n",
    "        c.execute(\"create table page_titles (idx integer unique primary key, title text)\")\n",
    "        for i, title in enumerate(wiki_titles.page_titles):        \n",
    "            c.execute(\"insert into page_titles values (%d, ?)\"%i, (title,))\n",
    "            if i % 10000 == 0:\n",
    "                conn.commit()\n",
    "            if i % 100000 == 0:\n",
    "                print(\"\\r2:%d    \"%i, end=\"\")\n",
    "        conn.commit()\n",
    "        print(\"\\r1:%d    \"%i, end=\"\\n\")\n",
    "\n",
    "        c.execute(\"create table redirect_map (key text unique primary key, value text)\")\n",
    "        for i, (key, value) in enumerate(wiki_titles.redirect_map.items()):\n",
    "            c.execute(\"insert into redirect_map values (?, ?)\", (key,value))\n",
    "            if i % 10000 == 0:\n",
    "                conn.commit()\n",
    "            if i % 1000 == 0:\n",
    "                print(\"\\r3:%d    \"%i, end=\"\")\n",
    "        conn.commit()\n",
    "        print(\"\\r1:%d    \"%i, end=\"\\n\")\n",
    "        \n",
    "    finally:\n",
    "        conn.close()\n",
    "        \n",
    "%timeit -r1 -n1 to_db()"
   ]
  },
  {
   "cell_type": "markdown",
   "metadata": {},
   "source": [
    "# 附录"
   ]
  },
  {
   "cell_type": "code",
   "execution_count": 13,
   "metadata": {
    "deletable": false,
    "editable": false,
    "scrolled": false
   },
   "outputs": [
    {
     "name": "stdout",
     "output_type": "stream",
     "text": [
      "<mediawiki xmlns=\"http://www.mediawiki.org/xml/export-0.10/\" xmlns:xsi=\"http://www.w3.org/2001/XMLSchema-instance\" xsi:schemaLocation=\"http://www.mediawiki.org/xml/export-0.10/ http://www.mediawiki.org/xml/export-0.10.xsd\" version=\"0.10\" xml:lang=\"en\">\n",
      "  <siteinfo>\n",
      "    <sitename>Wikipedia</sitename>\n",
      "    <dbname>enwiki</dbname>\n",
      "    <base>https://en.wikipedia.org/wiki/Main_Page</base>\n",
      "    <generator>MediaWiki 1.36.0-wmf.18</generator>\n",
      "    <case>first-letter</case>\n",
      "    <namespaces>\n",
      "      <namespace key=\"-2\" case=\"first-letter\">Media</namespace>\n",
      "      <namespace key=\"-1\" case=\"first-letter\">Special</namespace>\n",
      "      <namespace key=\"0\" case=\"first-letter\" />\n",
      "      <namespace key=\"1\" case=\"first-letter\">Talk</namespace>\n",
      "      <namespace key=\"2\" case=\"first-letter\">User</namespace>\n",
      "      <namespace key=\"3\" case=\"first-letter\">User talk</namespace>\n",
      "      <namespace key=\"4\" case=\"first-letter\">Wikipedia</namespace>\n",
      "      <namespace key=\"5\" case=\"first-letter\">Wikipedia talk</namespace>\n",
      "      <namespace key=\"6\" case=\"first-letter\">File</namespace>\n",
      "      <namespace key=\"7\" case=\"first-letter\">File talk</namespace>\n",
      "      <namespace key=\"8\" case=\"first-letter\">MediaWiki</namespace>\n",
      "      <namespace key=\"9\" case=\"first-letter\">MediaWiki talk</namespace>\n",
      "      <namespace key=\"10\" case=\"first-letter\">Template</namespace>\n",
      "      <namespace key=\"11\" case=\"first-letter\">Template talk</namespace>\n",
      "      <namespace key=\"12\" case=\"first-letter\">Help</namespace>\n",
      "      <namespace key=\"13\" case=\"first-letter\">Help talk</namespace>\n",
      "      <namespace key=\"14\" case=\"first-letter\">Category</namespace>\n",
      "      <namespace key=\"15\" case=\"first-letter\">Category talk</namespace>\n",
      "      <namespace key=\"100\" case=\"first-letter\">Portal</namespace>\n",
      "      <namespace key=\"101\" case=\"first-letter\">Portal talk</namespace>\n",
      "      <namespace key=\"108\" case=\"first-letter\">Book</namespace>\n",
      "      <namespace key=\"109\" case=\"first-letter\">Book talk</namespace>\n",
      "      <namespace key=\"118\" case=\"first-letter\">Draft</namespace>\n",
      "      <namespace key=\"119\" case=\"first-letter\">Draft talk</namespace>\n",
      "      <namespace key=\"446\" case=\"first-letter\">Education Program</namespace>\n",
      "      <namespace key=\"447\" case=\"first-letter\">Education Program talk</namespace>\n",
      "      <namespace key=\"710\" case=\"first-letter\">TimedText</namespace>\n",
      "      <namespace key=\"711\" case=\"first-letter\">TimedText talk</namespace>\n",
      "      <namespace key=\"828\" case=\"first-letter\">Module</namespace>\n",
      "      <namespace key=\"829\" case=\"first-letter\">Module talk</namespace>\n",
      "      <namespace key=\"2300\" case=\"first-letter\">Gadget</namespace>\n",
      "      <namespace key=\"2301\" case=\"first-letter\">Gadget talk</namespace>\n",
      "      <namespace key=\"2302\" case=\"case-sensitive\">Gadget definition</namespace>\n",
      "      <namespace key=\"2303\" case=\"case-sensitive\">Gadget definition talk</namespace>\n",
      "    </namespaces>\n",
      "  </siteinfo>\n",
      "  <page>\n",
      "    <title>AccessibleComputing</title>\n",
      "    <ns>0</ns>\n",
      "    <id>10</id>\n",
      "    <redirect title=\"Computer accessibility\" />\n",
      "    <revision>\n",
      "      <id>854851586</id>\n",
      "      <parentid>834079434</parentid>\n",
      "      <timestamp>2018-08-14T06:47:24Z</timestamp>\n",
      "      <contributor>\n",
      "        <username>Godsy</username>\n",
      "        <id>23257138</id>\n",
      "      </contributor>\n",
      "      <comment>remove from category for seeking instructions on rcats</comment>\n",
      "      <model>wikitext</model>\n",
      "      <format>text/x-wiki</format>\n",
      "      <text bytes=\"94\" xml:space=\"preserve\">#REDIRECT [[Computer accessibility]]\n",
      "\n",
      "{{R from move}}\n",
      "{{R from CamelCase}}\n",
      "{{R unprintworthy}}</text>\n",
      "      <sha1>42l0cvblwtb4nnupxm6wo000d27t6kf</sha1>\n",
      "    </revision>\n",
      "  </page>\n",
      "  <page>\n",
      "    <title>Anarchism</title>\n",
      "    <ns>0</ns>\n",
      "    <id>12</id>\n",
      "    <revision>\n",
      "      <id>991440343</id>\n",
      "      <parentid>991136459</parentid>\n",
      "      <timestamp>2020-11-30T02:05:06Z</timestamp>\n",
      "      <contributor>\n",
      "        <username>Monkbot</username>\n",
      "        <id>20483999</id>\n",
      "      </contributor>\n",
      "      <minor />\n",
      "      <comment>[[User:Monkbot/task 18|Task 18 (cosmetic)]]: eval 131 templates: del empty params (122×); hyphenate params (7×); del |url-status= (1×);</comment>\n",
      "      <model>wikitext</model>\n",
      "      <format>text/x-wiki</format>\n",
      "      <text bytes=\"97308\" xml:space=\"preserve\">{{short description|Political philosophy and movement}}\n",
      "{{redirect2|Anarchist|Anarchists|other uses|Anarchists (disambiguation)}}\n",
      "{{pp-move-indef}}\n",
      "{{good article}}\n",
      "{{use dmy dates|date=March 2020}}\n",
      "{{use British English|date=January 2014}}\n",
      "{{anarchism sidebar}}\n",
      "{{basic forms of government}}\n",
      "'''Anarchism''' is a [[political philosophy]] and [[Political movement|movement]] that is sceptical of [[authority]] and rejects all involuntary, coercive forms of [[hierarchy]]. Anarchism calls for the abolition of the [[State (polity)|state]] which it holds to be undesirable, unnecessary and harmful. It is usually described alongside [[libertarian Marxism]] as the [[libertarian]] wing ([[libertarian socialism]]) of the [[socialist movement]] and as having a historical association with [[anti-capitalism]] and [[socialism]].\n",
      "\n",
      "The [[history of anarchism]] goes back to [[prehistory]], when some humans lived in anarchistic societies long before the establishment of formal states, [[realm]]s or [[empire]]s. With the rise of organised hierarchical bodies, [[scepticism]] toward authority also rose, but it was not until the 19th century that a self-conscious political movement emerged. During the latter half of the 19th and the first decades of the 20th century, the anarchist movement flourished in most parts of the world and had a significant role in workers' struggles for [[emancipation]]. Various [[anarchist schools of thought]] formed during this period. Anarchists have taken part in several revolutions, most notably in the [[Spanish Civil War]], whose end marked the end of the [[classical era of anarchism]]. In the last decades of the 20th century and into the 21st century, the anarchist movement has been resurgent once more.\n",
      "\n",
      "Anarchism employs a [[diversity of tactics]] in order to meet its ideal ends which can be broadly separated into revolutionary and evolutionary tactics. There is significant overlap between the two which are merely descriptive. Revolutionary tactics aim to bring down authority and state, having taken a violent turn in the past. Evolutionary tactics aim to prefigure what an anarchist society would be like. Anarchist thought, criticism and [[Praxis (process)|praxis]] have played a part in diverse areas of human society. Criticism of anarchism mainly focuses on claims of it being internally inconsistent, violent and [[utopian]].\n",
      "{{toc limit|3}}\n",
      "\n",
      "== Etymology, terminology and definition ==\n",
      "{{main|Definition of anarchism and libertarianism}}\n",
      "{{see also|Glossary of anarchism}}\n",
      "[[File:WilhelmWeitling.jpg|thumb|[[Wilhelm Weitling]], an example of a writer who added to anarchist theory without using the exact term]]\n",
      "The etymological origin of ''anarchism'' is from the Ancient Greek ''anarkhia'', meaning &quot;without a ruler&quot;, composed of the prefix ''an-'' (i.e. &quot;without&quot;) and the word ''arkhos'' (i.e. &quot;leader&quot; or &quot;ruler&quot;). The suffix ''[[-ism]]'' denotes the ideological current that favours [[anarchy]].{{sfnm|1a1=Bates|1y=2017|1p=128|2a1=Long|2y=2013|2p=217}} ''Anarchism'' appears in English from 1642 as ''anarchisme'' and ''anarchy'' from 1539; early English usages empahised a sense of disorder.{{sfnm|1a1=Merriam-Webster|1y=2019|1loc=&quot;Anarchism&quot;|2a1=''Oxford English Dictionary''|2y=2005|2loc=&quot;Anarchism&quot;|3a1=Sylvan|3y=2007|3p=260}} Various factions within the [[French Revolution]] labelled their opponents as ''anarchists'', although few such accused shared many views with later anarchists. Many revolutionaries of the 19th century such as [[William Godwin]] (1756–1836) and [[Wilhelm Weitling]] (1808–1871) would contribute to the anarchist doctrines of the next generation, but they did not use ''anarchist'' or ''anarchism'' in describing themselves or their beliefs.{{sfn|Joll|1964|pp=27–37}}\n",
      "\n",
      "The first political philosopher to call himself an ''anarchist'' ({{lang-fr|anarchiste}}) was [[Pierre-Joseph Proudhon]] (1809–1865), marking the formal birth of anarchism in the mid-19th century. Since the 1890s and beginning in France,{{sfn|Nettlau|1996|p=162}} ''[[libertarianism]]'' has often been used as a synonym for anarchism{{sfn|Guérin|1970|loc=&quot;The Basic Ideas of Anarchism&quot;}} and its use as a synonym is still common outside the United States.{{sfnm|1a1=Ward|1y=2004|1p=62|2a1=Goodway|2y=2006|2p=4|3a1=Skirda|3y=2002|3p=183|4a1=Fernández|4y=2009|4p=9}} On the other hand, some use ''libertarianism'' to refer to [[individualistic]] [[free-market]] philosophy only, referring to [[free-market anarchism]] as ''libertarian anarchism''.{{sfn|Morris|2002|p=61}}\n",
      "\n",
      "While the term ''libertarian'' has been largely synonymous with anarchism,{{sfnm|1a1=Marshall|1y=1992|1p=641|2a1=Cohn|2y=2009|2p=6}} its meaning has more recently diluted with wider adoption from ideologically disparate groups,{{sfn|Marshall|1992|p=641}} including both the [[New Left]] and [[libertarian Marxists]] (who do not associate themselves with [[authoritarian socialists]] or a [[vanguard party]]) as well as extreme [[Liberalism|liberals]] (primarily concerned with [[civil liberties]]).{{sfn|Marshall|1992|p=641}} Additionally, some anarchists use ''[[libertarian socialist]]''{{sfnm|1a1=Marshall|1y=1992|1p=641|2a1=Chomsky|2y=2005|2p=123|3a1=Cohn|3y=2009|3p=6|4a1=Adams|4a2=Levy|4y=2018|4p=104}} to avoid anarchism's negative connotations and emphasise its connections with [[socialism]].{{sfn|Marshall|1992|p=641}} Matthew S. Adams and [[Carl Levy (political scientist)|Carl Levy]] write that ''anarchism'' is used to &quot;describe the [[anti-authoritarian]] wing of the [[socialist movement]]&quot;.{{sfn|Adams|Levy|2018|p=104}} [[Noam Chomsky]] describes anarchism, alongside libertarian Marxism, as &quot;the libertarian wing of socialism&quot;.{{sfn|Chomsky|2005|p=123}} [[Daniel Guérin]] wrote:\n",
      "&lt;blockquote&gt;[A]narchism is really a synonym for socialism. The anarchist is primarily a socialist whose aim is to abolish the exploitation of man by man. Anarchism is only one of the streams of socialist thought, that stream whose main components are concern for liberty and haste to abolish the State.{{sfn|Guérin|1970|p=12}}&lt;/blockquote&gt;\n",
      "\n",
      "While [[opposition to the state]] is central to anarchist thought, defining anarchism is not an easy task as there is a lot of discussion among scholars and anarchists on the matter and various currents perceive anarchism slightly differently.{{sfn|Long|2013|p=217}} Hence, it might be true to say that anarchism is a cluster of political philosophies opposing [[authority]] and [[hierarchical organisation]] (including [[Anarchism and capitalism|capitalism]], [[Anarchism and nationalism|nationalism]], the [[State (polity)|state]]  and all associated [[institution]]s) in the conduct of all [[human relations]] in favour of a society based on [[decentralisation]], [[freedom]] and [[voluntary association]]. However, this definition has the same shortcomings as the definition based on anti-authoritarianism (which is an ''[[a posteriori]]'' conclusion), anti-statism (anarchism is much more than that){{sfnm|1a1=McLaughlin|1y=2007|1p=166|2a1=Jun|2y=2009|2p=507|3a1=Franks|3y=2013|3pp=386–388}} and etymology (which is simply a negation of a ruler).{{sfnm|1a1=McLaughlin|1y=2007|1pp=25–29|2a1=Long|2y=2013|2pp=217}} Nonetheless, major elements of the definition of anarchism include the will for a non-coercive society, the rejection of the state apparatus, the belief that human nature allows humans to exist in or progress toward such a non-coercive society and a suggestion on how to act to pursue the ideal of anarchy.{{sfn|McLaughlin|2007|pp=25–26}}\n",
      "\n",
      "[[Herbert L. Osgood]] claimed that anarchism is &quot;the extreme antithesis&quot; of [[authoritarian communism]] and [[state socialism]].{{sfn|Osgood|1889|p=1}} [[Peter Marshall (author)|Peter Marshall]] states that &quot;[i]n general anarchism is closer to socialism than liberalism. [...] Anarchism finds itself largely in the socialist camp, but it also has outriders in liberalism. It cannot be reduced to socialism, and is best seen as a separate and distinctive doctrine&quot;.{{sfn|Marshall|1992|p=641}} According to [[Jeremy Jennings]], &quot;[i]t is hard not to conclude that these ideas&quot;, referring to [[anarcho-capitalism]], &quot;are described as anarchist only on the basis of a misunderstanding of what anarchism is&quot;. Jennings adds that &quot;anarchism does not stand for the untrammelled freedom of the individual (as the 'anarcho-capitalists' appear to believe) but, as we have already seen, for the extension of individuality and community&quot;.{{sfn|Jennings|1999|p=147}} [[Nicolas Walter]] wrote that &quot;anarchism does derive from liberalism and socialism both historically and ideologically. [...] In a sense, anarchists always remain liberals and socialists, and whenever they reject what is good in either they betray anarchism itself. [...] We are liberals but more so, and socialists but more so&quot;.{{sfn|Walter|2002|p=44}} Michael Newman includes anarchism as one of many [[socialist traditions]], especially the more socialist-aligned tradition following Proudhon and [[Mikhail Bakunin]].{{sfn|Newman|2005|p=15}} [[Brian Morris (anthropologist)|Brian Morriss]] argues that it is &quot;conceptually and historically misleading&quot; to &quot;create a dichotomy between socialism and anarchism&quot;.{{sfn|Morriss|2015|p=64}}\n",
      "\n",
      "== History ==\n",
      "{{main|History of anarchism}}\n",
      "\n",
      "=== Pre-modern era ===\n",
      "[[File:Paolo Monti - Servizio fotografico (Napoli, 1969) - BEIC 6353768.jpg|thumb|upright=.7|[[Zeno of Citium]] (c. 334 – c. 262 BC), whose ''[[Republic (Zeno)|Republic]]'' inspired [[Peter Kropotkin]]{{sfn|Marshall|1993|p=70}}]]\n",
      "During the prehistoric era of mankind, an established authority did not exist. It was after the creation of towns and cities that institutions of authority were established and anarchistic ideas espoused as a reaction.{{sfn|Graham|2005|pp=xi–xiv}} Most notable precursors to anarchism in the ancient world were in China and Greece. In China, [[philosophical anarchism]] (i.e. the discussion on the legitimacy of the state) was delineated by [[Taoist]] philosophers [[Zhuang Zhou]] and [[Laozi]].{{sfnm|1a1=Coutinho|1y=2016|2a1=Marshall|2y=1993|2p=54}} Alongside [[Stoicism]], Taoism has been said to have had &quot;significant anticipations&quot; of anarchism.{{Sfn|Sylvan|2007|p=257}}\n",
      "\n",
      "Anarchic attitudes were also articulated by tragedians and philosophers in Greece. [[Aeschylus]] and [[Sophocles]] used the myth of [[Antigone]] to illustrate the conflict between rules set by the state and personal [[autonomy]]. [[Socrates]] questioned Athenian authorities constantly and insisted on the right of individual freedom of conscience. [[Cynicism (philosophy)|Cynics]] dismissed human law (''[[Nomos (sociology)|nomos]]'') and associated authorities while trying to live according to nature (''[[physis]]''). [[Stoics]] were supportive of a society based on unofficial and friendly relations among its citizens without the presence of a state.{{sfn|Marshall|1993|pp=4, 66–73}}\n",
      "\n",
      "During the [[Middle Ages]], there was no anarchistic activity except some ascetic religious movements in the [[Muslim world]] or in Christian Europe. This kind of tradition later gave birth to [[religious anarchism]]. In the [[Sasanian Empire]], [[Mazdak]] called for an [[egalitarian]] society and the [[abolition of monarchy]], only to be soon executed by Emperor [[Kavad I]].{{sfn|Marshall|1993|p=86}}\n",
      "\n",
      "In [[Basra]], religious sects preached against the state. In Europe, various sects developed anti-state and libertarian tendencies. Libertarian ideas further emerged during the [[Renaissance]] with the spread of [[humanism]], [[rationalism]] and [[reason]]ing through Europe. Novelists fictionalised ideal societies that were based on voluntarism rather than coercion. The [[Age of Enlightenment]] further pushed towards anarchism with the optimism for social progress.{{sfn|Adams|2014|pp=33–63}}\n",
      "\n",
      "=== Modern era ===\n",
      "During the [[French Revolution]], partisan groups such as the [[Enragés]] and the {{lang|fr|[[sans-culottes]]}} saw a turning point in the fermentation of anti-state and federalist sentiments.{{sfn|Marshall|1993|p=4}} The first anarchist currents developed throughout the 18th century as [[William Godwin]] espoused [[philosophical anarchism]] in England, morally delegitimising the state, [[Max Stirner]]'s thinking paved the way to [[Individualist anarchism|individualism]] and [[Pierre-Joseph Proudhon]]'s theory of [[Mutualism (economic theory)|mutualism]] found fertile soil in France.{{sfn|Marshall|1993|pp=4–5}} By the late 1870s, various anarchist schools of thought had become well-defined and a wave of then unprecedented [[globalization]] occurred from 1880 to 1914.{{sfn|Levy|2011|pp=10–15}} This era of [[classical anarchism]] lasted until the end of the [[Spanish Civil War]] and is considered the golden age of anarchism.{{sfn|Marshall|1993|pp=4–5}}\n",
      "\n",
      "[[File:Bakunin.png|thumb|upright|Mikhail Bakunin, who opposed the Marxist aim of [[dictatorship of the proletariat]] and allied himself with the federalists in the First International before his expulsion by the Marxists]]\n",
      "Drawing from mutualism, [[Mikhail Bakunin]] founded [[collectivist anarchism]] and entered the [[International Workingmen's Association]], a class worker union later known as the First International that formed in 1864 to unite diverse revolutionary currents. The International became a significant political force, with [[Karl Marx]] being a leading figure and a member of its General Council. Bakunin's faction (the [[Jura Federation]]) and Proudhon's followers (the mutualists) opposed [[state socialism]], advocating political [[abstentionism]] and small property holdings.{{sfnm|1a1=Dodson|1y=2002|1p=312|2a1=Thomas|2y=1985|2p=187|3a1=Chaliand|3a2=Blin|3y=2007|3p=116}} After bitter disputes, the Bakuninists were expelled from the International by the [[Marxists]] at the [[1872 Hague Congress]].{{sfnm|1a1=Graham|1y=2019|1pp=334–336|2a1=Marshall|2y=1993|2p=24}} Anarchists were treated similarly in the [[Second International]], being ultimately expelled in 1896.{{sfn|Levy|2011|p=12}} Bakunin famously predicted that if revolutionaries gained power by Marx's terms, they would end up the new tyrants of workers. In response to their expulsion from the First International, anarchists formed the [[St. Imier International]]. Under the influence of [[Peter Kropotkin]], a Russian philosopher and scientist, [[anarcho-communism]] overlapped with collectivism.{{sfn|Marshall|1993|p=5}} Anarcho-communists, who drew inspiration from the 1871 [[Paris Commune]], advocated for free federation and for the distribution of goods according to one's needs.{{sfn|Graham|2005|p=xii}}\n",
      "\n",
      "At the turn of the century, anarchism had spread all over the world.{{sfn|Moya|2015|p=327}} It was a notable feature of the international syndicalism movement.{{Sfn|Levy|2011|p=16}} In China, small groups of students imported the humanistic pro-science version of anarcho-communism.{{sfn|Marshall|1993|pp=519–521}} Tokyo was a hotspot for rebellious youth from countries of the far east, travelling to the Japanese capital to study.{{sfnm|1a1=Dirlik|1y=1991|1p=133|2a1=Ramnath|2y=2019|2pp=681–682}} In Latin America, [[Anarchism in Argentina|Argentina]] was a stronghold for [[anarcho-syndicalism]], where it became the most prominent left-wing ideology.{{sfnm|1a1=Levy|1y=2011|1p=23|2a1=Laursen|2y=2019|2p=157|3a1=Marshall|3y=1993|3pp=504–508}} During this time, a minority of anarchists adopted tactics of revolutionary [[political violence]]. This strategy became known as [[propaganda of the deed]].{{sfn|Marshall|1993|pp=633–636}} The dismemberment of the French socialist movement into many groups and the execution and exile of many [[Communards]] to penal colonies following the suppression of the Paris Commune favoured individualist political expression and acts.{{sfn|Anderson|2004}} Even though many anarchists distanced themselves from these terrorist acts, infamy came upon the movement and attempts were made to exclude them from American immigration, including the [[Immigration Act of 1903]], also called the Anarchist Exclusion Act.{{sfnm|1a1=Marshall|1y=1993|1pp=633–636|2a1=Lutz|2a2=Ulmschneider|2y=2019|2p=46}} [[Illegalism]] was another strategy which some anarchists adopted during this period.{{sfn|Bantman|2019|p=374}}\n",
      "\n",
      "[[File:Makhno group.jpg|thumb|left|Nestor Makhno with members of the anarchist [[Revolutionary Insurrectionary Army of Ukraine]]]]\n",
      "Despite concerns, anarchists enthusiastically participated in the [[Russian Revolution]] in opposition to the [[White movement]]. However, they met harsh suppression after the [[Bolshevik government]] was stabilized. Several anarchists from Petrograd and Moscow fled to Ukraine,{{sfn|Avrich|2006|p=204}} notably leading to the [[Kronstadt rebellion]] and [[Nestor Makhno]]'s struggle in the [[Free Territory]]. With the anarchists being crushed in Russia, two new antithetical currents emerged, namely [[platformism]] and [[synthesis anarchism]]. The former sought to create a coherent group that would push for revolution while the latter were against anything that would resemble a political party. Seeing the victories of the [[Bolsheviks]] in the [[October Revolution]] and the resulting [[Russian Civil War]], many workers and activists turned to [[communist parties]] which grew at the expense of anarchism and other socialist movements. In France and the United States, members of major syndicalist movements such as the [[General Confederation of Labour (France)|General Confederation of Labour]] and the [[Industrial Workers of the World]] left their organisations and joined the [[Communist International]].{{sfn|Nomad|1966|p=88}}\n",
      "\n",
      "In the Spanish Civil War of 1936, anarchists and syndicalists ([[Confederación Nacional del Trabajo|CNT]] and [[Federación Anarquista Ibérica|FAI]]) once again allied themselves with various currents of leftists. A long tradition of [[Spanish anarchism]] led to anarchists playing a pivotal role in the war. In response to the army rebellion, an anarchist-inspired movement of peasants and workers, supported by armed militias, took control of Barcelona and of large areas of rural Spain, where they [[collectivised]] the land.{{sfn|Bolloten|1984|p=1107}} The [[Soviet Union]] provided some limited assistance at the beginning of the war, but the result was a bitter fight among communists and anarchists at a series of events named [[May Days]] as [[Joseph Stalin]] tried to seize control of the [[Republican faction (Spanish Civil War)|Republicans]].{{sfn|Marshall|1993|pp=xi, 466}}\n",
      "\n",
      "=== Post-war era ===\n",
      "[[File:Rojava Sewing Cooperative.jpg|thumb|Rojava's support efforts for workers to form cooperatives is exemplified in this sewing cooperative]]\n",
      "At the end of [[World War II]], the anarchist movement was severely weakened.{{sfn|Marshall|1993|p=xi}} However, the 1960s witnessed a revival of anarchism, likely caused by a perceived failure of [[Marxism–Leninism]] and tensions built by the [[Cold War]].{{sfn|Marshall|1993|p=539}} During this time, anarchism found a presence in other movements critical towards both capitalism and the state such as the [[Anti-nuclear movement|anti-nuclear]], [[Environmental movement|environmental]] and [[peace movement]]s, the [[counterculture of the 1960s]] and the [[New Left]].{{sfn|Marshall|1993|pp=xi, 539}} It also saw a transition from its previous revolutionary nature to provocative [[anti-capitalist reform]]ism.{{sfn|Levy|2011|pp=5|p=}} Anarchism became associated with [[punk subculture]] as exemplified by bands such as [[Crass]] and the [[Sex Pistols]].{{sfn|Marshall|1993|pp=493–494}} The established [[feminist]] tendencies of [[anarcha-feminism]] returned with vigour during the [[second wave of feminism]].{{sfn|Marshall|1993|pp=556–557}} [[Black anarchism]] began to take form at this time and influenced anarchism's move from a [[Eurocentric]] demographic.{{sfn|Williams|2015|p=680}} This coincided with its failure to gain traction in Northern Europe and its unprecedented height in Latin America.{{sfn|Harmon|2011|p=70}}\n",
      "\n",
      "Around the turn of the 21st century, anarchism grew in popularity and influence within [[anti-capitalist]], [[anti-war]] and [[anti-globalisation]] movements.{{sfn|Rupert|2006|p=66}} Anarchists became known for their involvement in protests against the [[World Trade Organization]] (WTO), the [[Group of Eight]] and the [[World Economic Forum]]. During the protests, ''ad hoc'' leaderless anonymous cadres known as [[black bloc]]s engaged in [[riot]]ing, [[property destruction]] and violent confrontations with the [[police]]. Other organisational tactics pioneered in this time include [[affinity group]]s, [[security culture]] and the use of decentralised technologies such as the Internet. A significant event of this period was the confrontations at the [[1999 Seattle WTO conference]].{{sfn|Rupert|2006|p=66}} Anarchist ideas have been influential in the development of the [[Zapatista Army of National Liberation|Zapatistas]] in Mexico and the Democratic Federation of Northern Syria, more commonly known as [[Rojava]], a ''de facto'' [[Permanent autonomous zone|autonomous region]] in northern Syria.{{sfn|Ramnath|2019|p=691}}\n",
      "\n",
      "== Thought ==\n",
      "{{main|Anarchist schools of thought}}\n",
      "Anarchist schools of thought have been generally grouped into two main historical traditions, [[social anarchism]] and [[individualist anarchism]], owing to their different origins, values and evolution.{{sfnm|1a1=McLean|1a2=McMillan|1y=2003|1loc=&quot;Anarchism&quot;|2a1=Ostergaard|2y=2003|2p=14|2loc=&quot;Anarchism&quot;}} The individualist current emphasises [[negative liberty]] in opposing restraints upon the free individual while the social current emphasises [[positive liberty]] in aiming to achieve the free potential of society through equality and [[social ownership]].{{sfn|Harrison|Boyd|2003|p=251}} In a chronological sense, anarchism can be segmented by the classical currents of the late 19th century and the post-classical currents ([[anarcha-feminism]], [[green anarchism]] and [[post-anarchism]]) developed thereafter.{{sfn|Adams|Levy|2019|p=9}}\n",
      "\n",
      "Beyond the specific factions of anarchist movements which constitute political anarchism lies [[philosophical anarchism]] which holds that the state lacks moral legitimacy, without necessarily accepting the imperative of revolution to eliminate it.{{sfn|Egoumenides|2014|p=2}} A component especially of individualist anarchism,{{sfnm|1a1=Ostergaard|1y=2003|1p=12|2a1=Gabardi|2y=1986|2pp=300–302}} philosophical anarchism may tolerate the existence of a [[minimal state]], but it argues that citizens have no [[moral obligation]] to obey government when it conflicts with individual autonomy.{{sfn|Klosko|2005|p=4}} Anarchism pays significant attention to moral arguments since [[ethics]] have a central role in anarchist philosophy.{{sfn|Franks|2019|p=549}} Anarchism's emphasis on [[anti-capitalism]], [[egalitarianism]] and for the extension of community and individuality sets it apart from [[anarcho-capitalism]] and other types of [[economic libertarian]]ism.{{sfnm|1a1=Marshall|1y=1992|1pp=564–565|2a1=Jennings|2y=1993|2p=143|3a1=Gay|3a2=Gay|3y=1999|3p=15|4a1=Morriss|4y=2008|4p=13|5a1=Johnson|5y=2008|5p=169|6a1=Franks|6y=2013|6pp=393–394}}\n",
      "\n",
      "Anarchism is usually placed on the [[far-left]] of the [[political spectrum]].{{sfnm|1a1=Brooks|1y=1994|1p=xi|2a1=Kahn|2y=2000|3a1=Moynihan|3y=2007}} Much of its [[Anarchist economics|economics]] and [[Anarchist law|legal philosophy]] reflect [[anti-authoritarian]], [[anti-statist]], [[libertarian]] and [[Radical politics|radical]] interpretations of [[left-wing]] and [[socialist]] politics{{sfn|Guérin|1970|p=12}} such as [[Collectivist anarchism|collectivism]], [[Anarcho-communism|communism]], [[Individualist anarchism|individualism]], [[Mutualism (economic theory)|mutualism]] and [[Anarcho-syndicalism|syndicalism]], among other [[libertarian socialist]] economic theories.{{sfn|Guérin|1970|p=35|loc=&quot;Critique of authoritarian socialism&quot;}} As anarchism does not offer a fixed body of doctrine from a single particular worldview,{{sfn|Marshall|1993|pp=14–17}} many anarchist types and traditions exist and varieties of anarchy diverge widely.{{sfn|Sylvan|2007|p=262}} One reaction against [[sectarianism]] within the anarchist milieu was [[anarchism without adjectives]], a call for toleration and unity among anarchists first adopted by [[Fernando Tarrida del Mármol]] in 1889 in response to the bitter debates of anarchist theory at the time.{{sfn|Avrich|1996|p=6}} Belief in political [[nihilism]] has been espoused by anarchists.{{sfn|Walter|2002|p=52}} Despite separation, the various anarchist schools of thought are not seen as distinct entities, but rather as tendencies that intermingle and are connected through a set of uniform principles such as individual and local autonomy, mutual aid, network organisation, communal democracy, justified authoritiy and decentralisation.{{sfnm|1a1=Marshall|1y=1993|1p=1–6|2a1=Angelbeck|2a2=Grier|2y=2012|2p=551}}\n",
      "\n",
      "=== Classical ===\n",
      "[[File:Portrait of Pierre Joseph Proudhon 1865.jpg|thumb|upright|Pierre-Joseph Proudhon, the primary proponent of mutualism, who influenced many future individualist anarchist and social anarchist thinkers{{sfn|Wilbur|2019|p=216–218}}]]\n",
      "Inceptive currents among classical anarchist currents were [[Mutualism (economic theory)|mutualism]] and [[Individualist anarchism|individualism]]. They were followed by the major currents of [[social anarchism]] ([[Collectivist anarchism|collectivist]], [[Anarcho-communism|communist]] and [[Anarcho-syndicalism|syndicalist]]). They differ on organisational and economic aspects of their ideal society.{{sfn|Adams|Levy|2019|p=2}}\n",
      "\n",
      "Mutualism is an 18th-century economic theory that was developed into anarchist theory by [[Pierre-Joseph Proudhon]]. Its aims include [[Reciprocity (cultural anthropology)|reciprocity]], [[Free association (Marxism and anarchism)|free association]], voluntary [[contract]], [[federation]] and [[monetary reform]] of both credit and currency that would be regulated by a bank of the people.{{sfn|Wilbur|2019|pp=213–218}} Mutualism has been retrospectively characterised as ideologically situated between individualist and collectivist forms of anarchism.{{sfnm|1a1=Avrich|1y=1996|1p=6|2a1=Miller|2y=1991|2p=11}} In ''[[What Is Property?]]'' (1840), Proudhon first characterised his goal as a &quot;third form of society, the synthesis of communism and property&quot;.{{sfn|Pierson|2013|p=187}} Collectivist anarchism is a [[revolutionary socialist]] form of anarchism{{sfn|Morris|1993|p=76}} commonly associated with [[Mikhail Bakunin]].{{sfn|Shannon|2019|p=101}} Collectivist anarchists advocate [[collective ownership]] of the [[means of production]] which is theorised to be achieved through violent revolution{{sfn|Avrich|1996|pp=3–4}} and that workers be paid according to time worked, rather than goods being distributed according to need as in communism. Collectivist anarchism arose alongside [[Marxism]], but it rejected the [[dictatorship of the proletariat]] despite the stated Marxist goal of a collectivist [[stateless society]].{{sfnm|1a1=Heywood|1y=2017|1pp=146–147|2a1=Bakunin|2y=1990}}\n",
      "\n",
      "[[Anarcho-communism]] is a theory of anarchism that advocates a [[communist society]] with [[common ownership]] of the means of production,{{sfn|Mayne|1999|p=131}} [[direct democracy]] and a [[Horizontalidad|horizontal]] network of [[voluntary association]]s, [[workers' council]]s and [[worker cooperative]]s, with production and consumption based on the guiding principle &quot;[[From each according to his ability, to each according to his need]]&quot;.{{sfnm|1a1=Marshall|1y=1993|1p=327|2a1=Turcato|2y=2019|2pp=237–323}} Anarcho-communism developed from radical socialist currents after the [[French Revolution]],{{sfn|Graham|2005}} but it was first formulated as such in the Italian section of the [[First International]].{{sfn|Pernicone|2009|pp=111–113}} It was later expanded upon in the theoretical work of [[Peter Kropotkin]],{{sfn|Turcato|2019|pp=239–244}} whose specific style would go onto become the dominating view of anarchists by the late 19th century.{{sfn|Levy|2011|pp=6|p=}} Anarcho-syndicalism is a branch of anarchism that views [[labour syndicate]]s as a potential force for revolutionary social change, replacing capitalism and the state with a new society democratically self-managed by workers. The basic principles of anarcho-syndicalism are [[direct action]], workers' [[solidarity]] and [[workers' self-management]].{{sfn|Van der Walt|2019|p=249}}\n",
      "\n",
      "Individualist anarchism is a set of several traditions of thought within the anarchist movement that emphasise the [[individual]] and their [[Will (philosophy)|will]] over any kinds of external determinants.{{sfn|Ryley|2019|p=225}} Early influences on individualist forms of anarchism include [[William Godwin]], [[Max Stirner]] and [[Henry David Thoreau]]. Through many countries, individualist anarchism attracted a small yet diverse following of Bohemian artists and intellectuals{{sfn|Marshall|1993|p=440}} as well as young anarchist outlaws in what became known as [[illegalism]] and [[individual reclamation]].{{sfnm|1a1=Imrie|1y=1994|2a1=Parry|2y=1987|2p=15}}\n",
      "\n",
      "=== Post-classical and contemporary ===\n",
      "{{main|Contemporary anarchism}}\n",
      "[[File:Jarach and Zerzan.JPG|thumb|[[Lawrence Jarach]] (left) and [[John Zerzan]] (right), two prominent contemporary anarchist authors, with Zerzan being a prominent voice within [[anarcho-primitivism]] and Jarach a noted advocate of [[post-left anarchy]]]]\n",
      "Anarchist principles undergird contemporary radical social movements of the left. Interest in the anarchist movement developed alongside momentum in the [[anti-globalisation movement]],{{sfn|Evren|2011|p=1}} whose leading activist networks were anarchist in orientation.{{sfn|Evren|2011|p=2}} As the movement shaped 21st century radicalism, wider embrace of anarchist principles signaled a revival of interest.{{sfn|Evren|2011|p=2}} Anarchism has continued to generate many philosophies and movements, at times eclectic, drawing upon various sources and [[syncretic]], combining disparate concepts to create new philosophical approaches.{{sfn|Perlin|1979}} The [[anti-capitalist]] tradition of classical anarchism has remained prominent within contemporary currents.{{sfn|Williams|2018|p=4}}\n",
      "\n",
      "Contemporary news coverage which emphasizes [[black bloc]] demonstrations has reinforced anarchism's historical association with chaos and violence. However, its publicity has also led more scholars in fields such as [[anthropology]] and [[history]] to engage with the anarchist movement, although contemporary anarchism favours actions over academic theory.{{sfnm|1a1=Williams|1y=2010|1p=110|2a1=Evren|2y=2011|2p=1|3a1=Angelbeck|3a2=Grier|3y=2012|3p=549}} Various anarchist groups, tendencies and schools of thought exist today, making it difficult to describe the contemporary anarchist movement.{{sfn|Franks|2013|pp=385–386}} While theorists and activists have established &quot;relatively stable constellations of anarchist principles&quot;, there is no consensus on which principles are core and commentators describe multiple &quot;anarchisms&quot; (rather than a singular &quot;anarchism&quot;) in which common principles are shared between schools of anarchism while each group prioritizes those principles differently. Gender equality can be a common principle, although it ranks as a higher priority to [[anarcha-feminists]] than [[anarcho-communists]].{{sfn|Franks|2013|p=386}}\n",
      "\n",
      "Anarchists are generally committed against coercive authority in all forms, namely &quot;all centralized and hierarchical forms of government (e.g., monarchy, representative democracy, state socialism, etc.), economic class systems (e.g., capitalism, Bolshevism, feudalism, slavery, etc.), autocratic religions (e.g., fundamentalist Islam, Roman Catholicism, etc.), patriarchy, heterosexism, white supremacy, and imperialism&quot;.{{sfn|Jun|2009|pp=507–508}} However, anarchist schools disagree on the methods by which these forms should be opposed.{{sfn|Jun|2009|p=507}} The principle of [[equal liberty]] is closer to anarchist political ethics in that it transcends both the liberal and socialist traditions. This entails that liberty and equality cannot be implemented within the state, resulting in the questioning of all forms of domination and hierarchy.{{sfn|Egoumenides|2014|p=91}}\n",
      "\n",
      "== Tactics ==\n",
      "Anarchists' tactics take various forms, but in general, they serve two major goals, namely to first oppose [[the Establishment]] and secondly to promote anarchist ethics and reflect an anarchist vision of society, illustrating the unity of means and ends.{{sfn|Williams|2019|pp=107–108}} A broad categorisation can be made between aims to destroy oppressive states and institutions by revolutionary means on one hand and aims to change society through evolutionary means on the other.{{sfn|Williams|2018|pp=4–5}} Evolutionary tactics embrace [[nonviolence]], reject violence and take a gradual approach to anarchist aims, although there is significant overlap between the two.{{sfn|Kinna|2019|p=125}}\n",
      "\n",
      "Anarchist tactics have shifted during the course of the last century. Anarchists during the early 20th century focused more on strikes and militancy while contemporary anarchists use a broader array of approaches.{{sfn|Williams|2019|p=112}}\n",
      "\n",
      "=== Classical era tactics ===\n",
      "[[File:McKinleyAssassination.jpg|thumb|The relationship between [[anarchism and violence]] is a controversial subject among anarchists as shown by anarchist [[Leon Czolgosz]] [[Assassination of William McKinley|assassinating]] [[William McKinley]]]]\n",
      "During the classical era, anarchists had a militant tendency. Not only did they confront state armed forces, as in Spain and Ukraine, but some of them also employed [[terrorism]] as [[propaganda of the deed]]. Assassination attempts were carried out against heads of state, some of which were successful. Anarchists also took part in [[revolution]]s.{{sfn|Williams|2019|pp=112–113}} Many anarchists, especially the [[Galleanists]], believed that these attempts would be the impetus for a revolution against capitalism and the state.{{sfn|Norris|2020|pp=7-8}} Many of these attacks were done by individual assailants and the majority took place in the late 1870s, the early 1880s and the 1890s, with some still occurring in the early 1900s.{{sfnm|1a1=Levy|1y=2011|1p=13|2a1=Nesser|2y=2012|2p=62}} Their decrease in prevalence was the result of further [[judicial]] power and targeting and cataloging by state institutions.{{sfn|Harmon|2011|p=55}}\n",
      "\n",
      "Anarchist perspectives towards violence have always been perplexing and controversial.{{sfn|Carter|1978|p=320}} On one hand, [[anarcho-pacifists]] point out the unity of means and ends.{{sfn|Fiala|2017}} On the other hand, other anarchist groups advocate direct action, a tactic which can include acts of [[sabotage]] or even acts of terrorism. This attitude was quite prominent a century ago when seeing the state as a [[tyrant]] and some anarchists believing that they had every right to oppose its [[oppression]] by any means possible.{{sfn|Kinna|2019|pp=116–117}} [[Emma Goldman]] and [[Errico Malatesta]], who were proponents of limited use of violence, argued that violence is merely a reaction to state violence as a [[necessary evil]].{{sfn|Carter|1978|pp=320–325}}\n",
      "\n",
      "Anarchists took an active role in [[strike action]]s, although they tended to be antipathetic to formal [[syndicalism]], seeing it as [[Reformism|reformist]]. They saw it as a part of the movement which sought to overthrow the [[State (polity)|state]] and [[capitalism]].{{sfn|Williams|2019|p=113}} Anarchists also reinforced their propaganda within the arts, some of whom practiced [[naturism]] and [[nudism]]. Those anarchists also built communities which were based on [[friendship]] and were involved in the [[news media]].{{sfn|Williams|2019|p=114}}\n",
      "\n",
      "=== Revolutionary tactics ===\n",
      "[[File:Black bloc at RNC running.jpg|thumb|Black bloc protesters parading anarcho-communism imagery such as the motto &quot;[[No War but the Class War]]&quot;]]\n",
      "In the current era, Italian anarchist [[Alfredo Bonanno]], a proponent of [[insurrectionary anarchism]], has reinstated the debate on violence by rejecting the nonviolence tactic adopted since the late 19th century by Kropotkin and other prominent anarchists afterwards. Both Bonanno and the French group [[The Invisible Committee]] advocate for small, informal affiliation groups, where each member is responsible for their own actions but works together to bring down oppression utilizing sabotage and other violent means against state, capitalism and other enemies. Members of The Invisible Committee were arrested in 2008 on various charges, terrorism included.{{sfn|Kinna|2019|pp=134–135}}\n",
      "\n",
      "Overall, contemporary anarchists are much less violent and militant than their ideological ancestors. They mostly engage in confronting the police during demonstrations and riots, especially in countries such as [[Anarchism in Canada|Canada]], [[Anarchism in Greece|Greece]] and [[Anarchism in Mexico|Mexico]]. Militant [[black bloc]] protest groups are known for clashing with the police.{{sfn|Williams|2019|p=115}} However, anarchists not only clash with state operators; they also engage in the struggle against fascists and racists, taking [[anti-fascist action]] and mobilizing to prevent hate rallies from happening.{{sfn|Williams|2019|p=117}}\n",
      "\n",
      "=== Evolutionary tactics ===\n",
      "Anarchists commonly employ [[direct action]]. This can take the form of disrupting and protesting against unjust [[hierarchy]], or the form of self-managing their lives through the creation of counter-institutions such as communes and non-hierarchical collectives.{{sfn|Williams|2018|pp=4–5}}  Decision-making is often handled in an anti-authoritarian way, with everyone having equal say in each decision, an approach known as [[horizontalism]].{{sfn|Williams|2019|pp=109–117}} Contemporary-era anarchists have been engaging with various [[grassroots]] movements that are more or less based on horizontalism, although not explicitly anarchist, respecting personal autonomy and participating in mass activism such as strikes and demonstrations. In contrast with the ''big-A anarchism'' of the classical era, the newly coined term ''small-a anarchism'' signals their tendency not to base their thoughts and actions on classical-era anarchism or to refer to [[classical anarchists]] such as [[Peter Kropotkin]] and [[Pierre-Joseph Proudhon]] to justify their opinions. Those anarchists would rather base their thought and praxis on their own experience which they will later theorize.{{sfn|Kinna|2019|pp=145–149}}\n",
      "\n",
      "The decision-making process of small anarchist [[affinity group]]s plays a significant tactical role.{{sfn|Williams|2019|pp=109, 119}} Anarchists have employed various methods in order to build a rough consensus among members of their group without the need of a leader or a leading group. One way is for an individual from the group to play the role of facilitator to help achieve a consensus without taking part in the discussion themselves or promoting a specific point. Minorities usually accept rough consensus, except when they feel the proposal contradicts anarchist ethics, goals and values. Anarchists usually form small groups (5–20 individuals) to enhance autonomy and friendships among their members. These kinds of groups more often than not interconnect with each other, forming larger networks. Anarchists still support and participate in strikes, especially [[Wildcat strike action|wildcat strikes]] as these are leaderless strikes not organised centrally by a syndicate.{{sfn|Williams|2019|p=119–121}}\n",
      "\n",
      "As in the past, newspapers and journals are used, but anarchists have gone [[online]] in the [[World Wide Web]] to spread their message. However, anarchists have found it easier to create websites because of distributional and other difficulties, hosting electronic libraries and other portals.{{sfn|Williams|2019|pp=118–119}} Anarchists were also involved in developing various software that are available for free. The way these hacktivists work to develop and distribute resembles the anarchist ideals, especially when it comes to preserving users' privacy from state surveillance.{{sfn|Williams|2019|pp=120–121}}\n",
      "\n",
      "Anarchists organize themselves to [[Squatting|squat]] and reclaim public spaces. During important events such as protests and when spaces are being occupied, they are often called [[Temporary Autonomous Zone]]s (TAZ), spaces where art, poetry and [[surrealism]] are blended to display the anarchist ideal.{{sfnm|1a1=Kinna|1y=2019|1p=139|2a1=Mattern|2y=2019|2p=596|3a1=Williams|3y=2018|3pp=5–6}} As seen by anarchists, squatting is a way to regain urban space from the capitalist market, serving pragmatical needs and also being an exemplary direct action.{{sfnm|1a1=Kinna|1y=2012|1p=250|2a1=Williams|2y=2019|2p=119}} Acquiring space enables anarchists to experiment with their ideas and build social bonds.{{sfn|Williams|2019|p=122}} Adding up these tactics while having in mind that not all anarchists share the same attitudes towards them, along with various forms of protesting at highly symbolic events, make up a [[carnivalesque]] atmosphere that is part of contemporary anarchist vividity.{{sfn|Morland|2004|p=37–38}}\n",
      "\n",
      "== Key issues ==\n",
      "{{main|Issues in anarchism}}\n",
      "&lt;!-- In the interest of restricting article length, please limit this section to two or three short paragraphs and add any substantial information to the main Issues in anarchism article. Thank you. --&gt;\n",
      "As anarchism is a [[philosophy]] that embodies many diverse attitudes, tendencies, schools of thought, disagreement over questions of values, ideology and tactics is common. Its diversity has led to widely different uses of identical terms among different anarchist traditions which has created a number of [[definitional concerns in anarchist theory]]. The compatibility of [[Anarchism and capitalism|capitalism]],{{sfnm|1a1=Marshall|1y=1993|1p=565|2a1=Honderich|2y=1995|2p=31|3a1=Meltzer|3y=2000|3p=50|4a1=Goodway|4y=2006|4p=4|5a1=Newman|5y=2010|5p=53}} [[Anarchism and nationalism|nationalism]] and [[Anarchism and religion|religion]] with anarchism is widely disputed. Similarly, anarchism enjoys complex relationships with ideologies such as [[Anarchism and communism|communism]], [[collectivism]], [[Anarchism and Marxism|Marxism]] and [[trade unionism]]. Anarchists may be motivated by [[humanism]], [[God|divine authority]], [[enlightened self-interest]], [[Veganarchism|veganism]], or any number of alternative ethical doctrines. Phenomena such as [[civilisation]], [[technology]] (e.g. within [[anarcho-primitivism]]) and the [[Anarchism and statist democracy|democratic process]] may be sharply criticised within some anarchist tendencies and simultaneously lauded in others.{{sfn|De George|2005|pp=31–32}}\n",
      "\n",
      "=== Gender, sexuality and free love ===\n",
      "{{see also|Anarchism and issues related to love and sex}}\n",
      "[[File:Emilearmand01.jpg|left|thumb|upright|[[Émile Armand]], a French individualist anarchist who propounded the virtues of free love in the Parisian anarchist milieu of the early 20th century]]\n",
      "As gender and sexuality carry along them dynamics of hierarchy, anarchism is obliged to address, analyse and oppose the suppression of one's autonomy because of the dynamics that gender roles traditionally impose.{{sfn|Nicholas|2019|p=603}}\n",
      "\n",
      "[[File:AnarchaFeminism.png|thumb|upright=1.2|Collection of [[anarcha-feminist]] protests, symbols and flags]]\n",
      "Sexuality was not often discussed by classical anarchists, but the few that did felt that an anarchist society would lead to sexuality naturally developing.{{sfn|Lucy|2020|p=162}} However, sexual violence was a concern for anarchists such as [[Benjamin Tucker]], who opposed age of consent laws, believing they would benefit predatory men.{{sfn|Lucy|2020|p=178}} A historical current that arose and flourished during 1890 and 1920 within anarchism was [[free love]]. In contemporary anarchism, this current survives as a tendency to support [[polyamory]] and [[queer anarchism]].{{sfnm|1a1=Nicholas|1y=2019|1p=611|2a1=Jeppesen|2a2=Nazar|2y=2012|2pp=175–176}} Free love advocates were against marriage, which they saw as a way of men imposing authority over women, largely because marriage law greatly favoured the power of men. The notion of free love was much broader and included a critique of the established order that limited women's sexual freedom and pleasure.{{sfn|Jeppesen|Nazar|2012|pp=175–176}} Those free love movements contributed to the establishment of communal houses, where large groups of travelers, anarchists and other activists slept in beds together.{{sfn|Jeppesen|Nazar|2012|p=177}} Free love had roots both in Europe and the United States. However, some anarchists struggled with the jealousy that arose from free love.{{sfn|Jeppesen|Nazar|2012|pp=175–177}} Anarchist feminists were advocates of free love, against marriage, pro-choice (utilising a contemporary term) and had a similar agenda. Anarchist and non-anarchist feminists differed on [[suffrage]], but they were nonetheless supportive of one another.{{sfn|Kinna2019|pp=166–167}}\n",
      "\n",
      "During the second half of the 20th century, anarchism intermingled with the [[second wave of feminism]], radicalising some currents of the feminist movement and being influenced as well. By the latest decades of the 20th century, anarchists and feminists were advocating for the rights and autonomy of women, gays, queers and other marginalised groups, with some feminist thinkers suggesting a fusion of \n"
     ]
    }
   ],
   "source": [
    "with open(file_path, \"r\", encoding=\"utf-8\") as f:\n",
    "    print(f.read(50000))"
   ]
  }
 ],
 "metadata": {
  "hide_input": false,
  "kernelspec": {
   "display_name": "Python 3",
   "language": "python",
   "name": "python3"
  },
  "language_info": {
   "codemirror_mode": {
    "name": "ipython",
    "version": 3
   },
   "file_extension": ".py",
   "mimetype": "text/x-python",
   "name": "python",
   "nbconvert_exporter": "python",
   "pygments_lexer": "ipython3",
   "version": "3.8.5"
  },
  "toc": {
   "base_numbering": 1,
   "nav_menu": {},
   "number_sections": true,
   "sideBar": true,
   "skip_h1_title": false,
   "title_cell": "Table of Contents",
   "title_sidebar": "Contents",
   "toc_cell": true,
   "toc_position": {
    "height": "calc(100% - 180px)",
    "left": "10px",
    "top": "150px",
    "width": "291.009px"
   },
   "toc_section_display": true,
   "toc_window_display": true
  },
  "varInspector": {
   "cols": {
    "lenName": "24",
    "lenType": "16",
    "lenVar": 40
   },
   "kernels_config": {
    "python": {
     "delete_cmd_postfix": "",
     "delete_cmd_prefix": "del ",
     "library": "var_list.py",
     "varRefreshCmd": "print(var_dic_list())"
    },
    "r": {
     "delete_cmd_postfix": ") ",
     "delete_cmd_prefix": "rm(",
     "library": "var_list.r",
     "varRefreshCmd": "cat(var_dic_list()) "
    }
   },
   "position": {
    "height": "293.991px",
    "left": "1330.99px",
    "right": "20px",
    "top": "139px",
    "width": "322.983px"
   },
   "types_to_exclude": [
    "module",
    "function",
    "builtin_function_or_method",
    "instance",
    "_Feature"
   ],
   "window_display": false
  }
 },
 "nbformat": 4,
 "nbformat_minor": 4
}
