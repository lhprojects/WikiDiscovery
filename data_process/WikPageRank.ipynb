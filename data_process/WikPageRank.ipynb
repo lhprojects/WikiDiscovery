{
 "cells": [
  {
   "cell_type": "markdown",
   "metadata": {
    "toc": true
   },
   "source": [
    "<h1>Table of Contents<span class=\"tocSkip\"></span></h1>\n",
    "<div class=\"toc\"><ul class=\"toc-item\"><li><span><a href=\"#PageRank\" data-toc-modified-id=\"PageRank-1\"><span class=\"toc-item-num\">1&nbsp;&nbsp;</span>PageRank</a></span><ul class=\"toc-item\"><li><span><a href=\"#加载数据\" data-toc-modified-id=\"加载数据-1.1\"><span class=\"toc-item-num\">1.1&nbsp;&nbsp;</span>加载数据</a></span></li><li><span><a href=\"#迭代算法\" data-toc-modified-id=\"迭代算法-1.2\"><span class=\"toc-item-num\">1.2&nbsp;&nbsp;</span>迭代算法</a></span></li></ul></li><li><span><a href=\"#存储\" data-toc-modified-id=\"存储-2\"><span class=\"toc-item-num\">2&nbsp;&nbsp;</span>存储</a></span><ul class=\"toc-item\"><li><span><a href=\"#应用\" data-toc-modified-id=\"应用-2.1\"><span class=\"toc-item-num\">2.1&nbsp;&nbsp;</span>应用</a></span><ul class=\"toc-item\"><li><span><a href=\"#查询\" data-toc-modified-id=\"查询-2.1.1\"><span class=\"toc-item-num\">2.1.1&nbsp;&nbsp;</span>查询</a></span></li><li><span><a href=\"#top-100\" data-toc-modified-id=\"top-100-2.1.2\"><span class=\"toc-item-num\">2.1.2&nbsp;&nbsp;</span>top 100</a></span></li></ul></li></ul></li></ul></div>"
   ]
  },
  {
   "cell_type": "markdown",
   "metadata": {},
   "source": [
    "# PageRank"
   ]
  },
  {
   "cell_type": "markdown",
   "metadata": {},
   "source": [
    "## 加载数据"
   ]
  },
  {
   "cell_type": "code",
   "execution_count": 3,
   "metadata": {
    "deletable": false,
    "editable": false
   },
   "outputs": [],
   "source": [
    "DATA_PATH = r\"D:\\data\" + \"\\\\\""
   ]
  },
  {
   "cell_type": "code",
   "execution_count": 4,
   "metadata": {
    "deletable": false,
    "editable": false
   },
   "outputs": [
    {
     "name": "stdout",
     "output_type": "stream",
     "text": [
      "0\n",
      "Anarchism\n"
     ]
    }
   ],
   "source": [
    "import os\n",
    "os.sys.path.append(\"../common\")\n",
    "\n",
    "import wiki\n",
    "import imp\n",
    "imp.reload(wiki)\n",
    "wiki_titles = wiki.WikiTitles(file = DATA_PATH  + \"pass1.5.data\")\n",
    "print(wiki_titles.get_index_from_title(\"Anarchism\"))\n",
    "print(wiki_titles.get_title_from_index(wiki_titles.get_index_from_title(\"Anarchism\")))"
   ]
  },
  {
   "cell_type": "code",
   "execution_count": 6,
   "metadata": {
    "deletable": false,
    "editable": false
   },
   "outputs": [
    {
     "name": "stdout",
     "output_type": "stream",
     "text": [
      "['Logarithmic scale', 'Algorithm', 'Google Search', 'Web page', 'Search engine', 'Larry Page', 'Google Patents', 'Network theory', 'Weighting', 'Hyperlink', 'Set (abstract data type)', 'World Wide Web', 'Link building', 'Webgraph', 'CNN', 'Mayo Clinic', 'Recursion', 'Backlink', 'HITS algorithm', 'Jon Kleinberg', 'Teoma', 'Ask.com', 'CLEVER project', 'TrustRank', 'Google Hummingbird', 'Eigenvalues and eigenvectors', 'Scientometrics', 'Thomas L. Saaty', 'Analytic hierarchy process', 'Cognitive model', 'Baidu', 'Robin Li', 'The New York Times', 'Forbes', 'Sergey Brin', 'Stanford University', 'Héctor García-Molina', 'Rajeev Motwani', 'Terry Winograd', 'Google', 'Software patent', 'Citation analysis', 'Eugene Garfield', 'Hyper Search', 'Massimo Marchiori', 'University of Padua', 'Probability distribution', 'Matt Cutts', 'Markov chain', 'URL', 'Adjacency matrix', 'Stochastic matrix', 'Eigenvector centrality', 'Eigengap', 'Expected value', 'Wikipedia', 'Link farm', 'Trade secret', 'Power iteration', 'Steady state', 'Identity matrix', 'Perron–Frobenius theorem', 'Scala (programming language)', 'Apache Spark', 'MATLAB', 'GNU Octave', 'Python (programming language)', 'Graph (abstract data type)', 'Bipartite graph', 'Random walk', 'Distributed algorithm', 'Google Toolbar', 'Danny Sullivan (technologist)', 'Search engine results page', 'Search engine optimization', 'Google Maps', 'Google Directory', 'HTTP 302', 'Meta element', 'Website spoofing', 'Nofollow', 'HTML attribute', 'Gaming the system', 'Citation', 'Sociometry', 'Attention economy', 'Institute for Scientific Information', 'Impact factor', 'Eigenfactor', 'SCImago Journal Rank', 'Neuroscience', 'Neuron', 'Twitter', 'Swiftype', 'Web crawler', 'Blogosphere', 'Scale-free network', 'Lexical semantics', 'Word-sense disambiguation', 'Semantic similarity', 'WordNet', 'Synonym ring', 'Link relation', 'Blog', 'Spamdexing', 'Spam in blogs', 'Search engine optimization metrics', 'Google Chrome', 'Attention inequality', 'CheiRank', 'Domain authority', 'EigenTrust', 'Google bombing', 'Google matrix', 'Google Panda', 'Google Penguin', 'Hilltop algorithm', 'Katz centrality', 'SimRank', 'VisualRank']\n"
     ]
    }
   ],
   "source": [
    "wiki_links = wiki.WikiLinks(file = DATA_PATH + \"pass2.npz\", wiki_titles=wiki_titles)\n",
    "print(wiki_links.get_links_from_title(\"PageRank\"))"
   ]
  },
  {
   "cell_type": "markdown",
   "metadata": {},
   "source": [
    "## 迭代算法"
   ]
  },
  {
   "cell_type": "code",
   "execution_count": 7,
   "metadata": {},
   "outputs": [],
   "source": [
    "import numba as nb\n",
    "import numpy as np\n",
    "@nb.njit\n",
    "def PR_update(links, page_n_links, PR, PR_out, d):\n",
    "    \n",
    "    n_pages = len(PR)\n",
    "    \n",
    "    for i in range(n_pages):\n",
    "        PR_out[i] = 0.0\n",
    "        \n",
    "    l = 0\n",
    "    for i in range(n_pages):\n",
    "        \n",
    "        n_links = page_n_links[i]\n",
    "        # this let the sum of the PR smaller than 1\n",
    "        if n_links > 0:\n",
    "            w =  PR[i] / n_links\n",
    "\n",
    "            for j in range(n_links):\n",
    "                PR_out[links[l]] += w\n",
    "                l += 1\n",
    "        else:\n",
    "#             PR_out[i] += PR[i]\n",
    "            pass\n",
    "            \n",
    "    # damp\n",
    "    bias = (1. - d)/n_pages\n",
    "    for i in range(n_pages):\n",
    "        PR_out[i] = PR_out[i]*d + bias\n",
    "        \n",
    "def page_rank(links, page_n_links, n_iters, d=0.85, on_update=None):\n",
    "\n",
    "    PR = np.ones(len(page_n_links))/len(page_n_links)\n",
    "    PR_out = np.empty(len(page_n_links))\n",
    "\n",
    "    for i in range(n_iters):\n",
    "        PR_update(links, page_n_links, PR, PR_out, d)\n",
    "\n",
    "        if on_update:\n",
    "            on_update(i, PR, PR_out)\n",
    "\n",
    "        # swap\n",
    "        t = PR\n",
    "        PR = PR_out\n",
    "        PR_out = t\n",
    "\n",
    "    return PR"
   ]
  },
  {
   "cell_type": "code",
   "execution_count": 8,
   "metadata": {},
   "outputs": [
    {
     "name": "stdout",
     "output_type": "stream",
     "text": [
      "  0: 0.008857   \n",
      " 10: 0.000013   \n",
      " 20: 0.000001   \n",
      " 30: 0.000000   \n"
     ]
    }
   ],
   "source": [
    "def on_update(i, PR, PR_new):\n",
    "    if i % 10 == 0:\n",
    "        norm = np.linalg.norm(PR - PR_new)\n",
    "        print(\"%3d: %f   \"%(i, norm), end=\"\\n\", flush=True)\n",
    "\n",
    "PR = page_rank(wiki_links.links, wiki_links.page_n_links, on_update=on_update, n_iters=40)\n",
    "PR = PR*len(PR)"
   ]
  },
  {
   "cell_type": "markdown",
   "metadata": {},
   "source": [
    "# 存储"
   ]
  },
  {
   "cell_type": "code",
   "execution_count": 10,
   "metadata": {},
   "outputs": [],
   "source": [
    "import pickle\n",
    "with open(DATA_PATH + \"page_rank.data\", \"wb\") as f:\n",
    "    pickle.dump(PR, f)"
   ]
  },
  {
   "cell_type": "code",
   "execution_count": 9,
   "metadata": {},
   "outputs": [
    {
     "name": "stdout",
     "output_type": "stream",
     "text": [
      "6200000            "
     ]
    }
   ],
   "source": [
    "import sqlite3\n",
    "import os\n",
    "\n",
    "if os.path.exists(DATA_PATH + \"page_rank.db\"):\n",
    "    os.remove(DATA_PATH + \"page_rank.db\")\n",
    "    \n",
    "try:\n",
    "    conn = sqlite3.connect(DATA_PATH + \"page_rank.db\")\n",
    "    c = conn.cursor()\n",
    "    c.execute(\"create table page_rank (idx integer unique primary key, PageRank real)\")\n",
    "    \n",
    "    for idx, pr in enumerate(PR):\n",
    "        c.execute(\"insert into page_rank values (?, ?)\", (idx, pr))\n",
    "        if idx % 10000 == 0:\n",
    "            conn.commit()\n",
    "        if idx % 100000 == 0:\n",
    "            print(\"\\r%d            \"%idx, end=\"\")\n",
    "    \n",
    "finally:\n",
    "    if conn:\n",
    "        conn.close()"
   ]
  },
  {
   "cell_type": "markdown",
   "metadata": {},
   "source": [
    "## 应用"
   ]
  },
  {
   "cell_type": "markdown",
   "metadata": {},
   "source": [
    "### 查询"
   ]
  },
  {
   "cell_type": "code",
   "execution_count": 11,
   "metadata": {},
   "outputs": [],
   "source": [
    "def get_PR(title):\n",
    "    index = wiki_titles.get_index_from_title(title)\n",
    "    if index is not None and idx > 0 and idx < len(PR):\n",
    "        return PR[index]\n",
    "    else:\n",
    "        return np.nan"
   ]
  },
  {
   "cell_type": "code",
   "execution_count": 12,
   "metadata": {},
   "outputs": [
    {
     "name": "stdout",
     "output_type": "stream",
     "text": [
      "China                2943.0\n",
      "Beijing              746.2\n",
      "Hongkong             975.6\n",
      "Shanghai             409.8\n",
      "Taiwan               985.9\n",
      "Guangdong            230.2\n",
      "Hebei                127.5\n",
      "Taipei               229.4\n",
      "Shijiazhuang         30.4\n",
      "Shenzhen             112.2\n",
      "USA                  9940.5\n"
     ]
    }
   ],
   "source": [
    "regions = [\"China\", \"Beijing\", \"Hongkong\", \"Shanghai\", \"Taiwan\", \"Guangdong\", \"Hebei\", \"Taipei\", \"Shijiazhuang\", \"Shenzhen\", \"USA\"]\n",
    "for region in regions:\n",
    "    print(\"%-20s\"%region, \"%.1f\"%get_PR(region))"
   ]
  },
  {
   "cell_type": "markdown",
   "metadata": {},
   "source": [
    "### top 100"
   ]
  },
  {
   "cell_type": "code",
   "execution_count": 13,
   "metadata": {
    "scrolled": false
   },
   "outputs": [
    {
     "name": "stdout",
     "output_type": "stream",
     "text": [
      "United States                                                                                        9940.5\n",
      "World War II                                                                                         5179.1\n",
      "France                                                                                               5003.4\n",
      "Association football                                                                                 4875.5\n",
      "List of sovereign states                                                                             4546.3\n",
      "United Kingdom                                                                                       4520.5\n",
      "The New York Times                                                                                   4437.8\n",
      "Germany                                                                                              4228.8\n",
      "India                                                                                                4031.7\n",
      "New York City                                                                                        3428.7\n",
      "London                                                                                               3129.9\n",
      "Australia                                                                                            3010.6\n",
      "Italy                                                                                                2988.8\n",
      "Canada                                                                                               2948.4\n",
      "China                                                                                                2943.0\n",
      "Russia                                                                                               2898.2\n",
      "Catholic Church                                                                                      2892.2\n",
      "Iran                                                                                                 2822.5\n",
      "World War I                                                                                          2805.3\n",
      "Animal                                                                                               2805.2\n",
      "England                                                                                              2797.2\n",
      "English language                                                                                     2748.2\n",
      "Japan                                                                                                2725.0\n",
      "U.S. state                                                                                           2311.1\n",
      "Latin                                                                                                2285.6\n",
      "Arthropod                                                                                            2264.6\n",
      "Insect                                                                                               2261.3\n",
      "Spain                                                                                                2237.4\n",
      "The Guardian                                                                                         2145.6\n",
      "Poland                                                                                               2089.7\n",
      "National Register of Historic Places                                                                 2080.1\n",
      "Soviet Union                                                                                         2079.4\n",
      "California                                                                                           2069.3\n",
      "Paris                                                                                                2012.4\n",
      "Netherlands                                                                                          1987.8\n",
      "Washington, D.C.                                                                                     1916.2\n",
      "Brazil                                                                                               1886.7\n",
      "Sweden                                                                                               1754.5\n",
      "Europe                                                                                               1739.0\n",
      "Village                                                                                              1737.7\n",
      "Species                                                                                              1652.9\n",
      "Mexico                                                                                               1652.1\n",
      "Moth                                                                                                 1647.5\n",
      "Oxford University Press                                                                              1589.3\n",
      "Departments of France                                                                                1588.5\n",
      "Switzerland                                                                                          1582.7\n",
      "New Zealand                                                                                          1569.9\n",
      "Scotland                                                                                             1568.7\n",
      "New York (state)                                                                                     1538.2\n",
      "Genus                                                                                                1534.1\n",
      "BBC                                                                                                  1530.9\n",
      "French language                                                                                      1497.1\n",
      "Turkey                                                                                               1481.6\n",
      "Communes of France                                                                                   1476.2\n",
      "Bakhsh                                                                                               1460.9\n",
      "South Africa                                                                                         1453.2\n",
      "Los Angeles                                                                                          1439.4\n",
      "European Union                                                                                       1405.5\n",
      "AllMusic                                                                                             1393.6\n",
      "Norway                                                                                               1386.2\n",
      "Democratic Party (United States)                                                                     1362.2\n",
      "Republican Party (United States)                                                                     1346.6\n",
      "United States Census Bureau                                                                          1342.7\n",
      "Central European Time                                                                                1330.2\n",
      "Chicago                                                                                              1317.6\n",
      "The Washington Post                                                                                  1314.2\n",
      "Counties of Iran                                                                                     1287.8\n",
      "Provinces of Iran                                                                                    1284.9\n",
      "Belgium                                                                                              1276.8\n",
      "United Nations                                                                                       1241.8\n",
      "Middle Ages                                                                                          1208.7\n",
      "Philippines                                                                                          1208.1\n",
      "Romanization                                                                                         1206.1\n",
      "German language                                                                                      1196.9\n",
      "Austria                                                                                              1195.6\n",
      "Family (biology)                                                                                     1183.3\n",
      "Central European Summer Time                                                                         1180.4\n",
      "Los Angeles Times                                                                                    1171.9\n",
      "Cambridge University Press                                                                           1166.9\n",
      "Finland                                                                                              1163.6\n",
      "Rome                                                                                                 1159.4\n",
      "Newspaper                                                                                            1153.8\n",
      "Argentina                                                                                            1147.4\n",
      "Spanish language                                                                                     1145.8\n",
      "Romania                                                                                              1145.3\n",
      "Dehestan (administrative division)                                                                   1141.6\n",
      "Greece                                                                                               1139.1\n",
      "Christianity                                                                                         1139.0\n",
      "Cricket                                                                                              1134.3\n",
      "Beetle                                                                                               1131.4\n",
      "Indonesia                                                                                            1130.4\n",
      "Ontario                                                                                              1127.5\n",
      "Lepidoptera                                                                                          1124.5\n",
      "Denmark                                                                                              1123.4\n",
      "Geographic Names Information System                                                                  1117.7\n",
      "Köppen climate classification                                                                        1110.8\n",
      "American Civil War                                                                                   1109.7\n",
      "Pakistan                                                                                             1108.8\n",
      "Berlin                                                                                               1103.4\n",
      "United States dollar                                                                                 1099.7\n"
     ]
    }
   ],
   "source": [
    "def top100(PR):\n",
    "    n = 0\n",
    "    PR_I_SORT = np.argsort(PR)[::-1]\n",
    "    for j in PR_I_SORT:\n",
    "        title = wiki_titles.get_title_from_index(j)\n",
    "        print(\"%-100s\"%title, \"%.1f\"%PR[j])\n",
    "        n += 1\n",
    "        if n == 100:\n",
    "            break\n",
    "    \n",
    "top100(PR)"
   ]
  }
 ],
 "metadata": {
  "hide_input": false,
  "kernelspec": {
   "display_name": "Python 3",
   "language": "python",
   "name": "python3"
  },
  "language_info": {
   "codemirror_mode": {
    "name": "ipython",
    "version": 3
   },
   "file_extension": ".py",
   "mimetype": "text/x-python",
   "name": "python",
   "nbconvert_exporter": "python",
   "pygments_lexer": "ipython3",
   "version": "3.8.5"
  },
  "toc": {
   "base_numbering": 1,
   "nav_menu": {},
   "number_sections": true,
   "sideBar": true,
   "skip_h1_title": false,
   "title_cell": "Table of Contents",
   "title_sidebar": "Contents",
   "toc_cell": true,
   "toc_position": {
    "height": "calc(100% - 180px)",
    "left": "10px",
    "top": "150px",
    "width": "165px"
   },
   "toc_section_display": true,
   "toc_window_display": true
  },
  "varInspector": {
   "cols": {
    "lenName": "24",
    "lenType": "16",
    "lenVar": 40
   },
   "kernels_config": {
    "python": {
     "delete_cmd_postfix": "",
     "delete_cmd_prefix": "del ",
     "library": "var_list.py",
     "varRefreshCmd": "print(var_dic_list())"
    },
    "r": {
     "delete_cmd_postfix": ") ",
     "delete_cmd_prefix": "rm(",
     "library": "var_list.r",
     "varRefreshCmd": "cat(var_dic_list()) "
    }
   },
   "oldHeight": 271.988364,
   "position": {
    "height": "40px",
    "left": "1445.99px",
    "right": "20px",
    "top": "123.991px",
    "width": "322.983px"
   },
   "types_to_exclude": [
    "module",
    "function",
    "builtin_function_or_method",
    "instance",
    "_Feature"
   ],
   "varInspector_section_display": "none",
   "window_display": true
  }
 },
 "nbformat": 4,
 "nbformat_minor": 4
}
